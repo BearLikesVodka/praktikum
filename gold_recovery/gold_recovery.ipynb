{
 "cells": [
  {
   "cell_type": "markdown",
   "metadata": {},
   "source": [
    "# Восстановление золота из руды\n",
    "\n",
    "## Описание проекта\n",
    "\n",
    "Данные расположены в нескольких файлах:\n",
    " - gold_recovery_full.csv — исходные данные.\n",
    " - gold_recovery_train.csv — обучающая выборка;\n",
    " - gold_recovery_test.csv — тестовая выборка;\n",
    "\n",
    "Исходный датасет содержит обучающую и тестовую выборки со всеми признаками.\n",
    "\n",
    "В данных есть время и дата (признак 'date'). Соседние по времени параметры могут быть похожи.\n",
    "\n",
    "Некоторые параметры недоступны, потому что замеряются и/или рассчитываются значительно позже. Из-за этого в тестовой выборке отсутствуют некоторые признаки, которые могут быть в обучающей, включая целевые.\n",
    "\n",
    "В вашем распоряжении сырые данные: их просто выгрузили из хранилища. Прежде чем приступить к построению модели, проверьте по нашей инструкции их на корректность.\n",
    "\n",
    "#### Инструкция по выполнению проекта\n",
    "\n",
    "1. Подготовьте данные\n",
    "\n",
    "    1.1 Откройте файлы и изучите их.\n",
    "    \n",
    "    1.2 Проверьте, что эффективность обогащения рассчитана правильно. Вычислите её на обучающей выборке для признака rougher.output.recovery. Найдите MAE между вашими расчётами и значением признака. Опишите выводы.\n",
    "    \n",
    "    1.3 Проанализируйте признаки, недоступные в тестовой выборке. Что это за параметры? К какому типу относятся?\n",
    "    \n",
    "    1.4 Проведите предобработку данных.\n",
    "    \n",
    "2. Проанализируйте данные\n",
    "\n",
    "    2.1 Посмотрите, как меняется концентрация металлов (Au, Ag, Pb) на различных этапах очистки. Опишите выводы.\n",
    "    \n",
    "    2.2 Сравните распределения размеров гранул сырья на обучающей и тестовой выборках. Если распределения сильно отличаются друг от друга, оценка модели будет неправильной.\n",
    "    \n",
    "    2.3 Исследуйте суммарную концентрацию всех веществ на разных стадиях: в сырье, в черновом и финальном концентратах. Заметили аномальные значения в суммарном распределении или нет? Если они есть, стоит ли их удалять из обеих выборок? Опишите выводы и удалите аномалии.\n",
    "    \n",
    "3. Постройте модель\n",
    "\n",
    "    3.1 Напишите функцию для вычисления итоговой sMAPE.\n",
    "    \n",
    "    3.2 Обучите разные модели и оцените их качество кросс-валидацией. Выберите лучшую модель и проверьте её на тестовой выборке. Опишите выводы."
   ]
  },
  {
   "cell_type": "markdown",
   "metadata": {},
   "source": [
    "## <a id='content'>Содержание</a>\n",
    "1. <a href='#step-1'>Подготовка данных</a>\n",
    "2. <a href='#step-2'>Модель</a>\n",
    "3. <a href='#step-3'>Анализ данных</a>\n",
    "4. <a href='#final-conclusion'>Общий вывод</a>"
   ]
  },
  {
   "cell_type": "markdown",
   "metadata": {},
   "source": [
    "## Технологический процесс\n",
    "\n",
    "Когда добытая руда проходит первичную обработку, получается дроблёная смесь. Её отправляют на флотацию (обогащение) и двухэтапную очистку.\n",
    "\n",
    "<img src='https://pictures.s3.yandex.net/resources/viruchka_1576238830.jpg'>\n",
    "\n",
    "Опишем каждую стадию:\n",
    "1. Флотация\n",
    "\n",
    "    Во флотационную установку подаётся смесь золотосодержащей руды. После обогащения получается черновой концентрат и «отвальные хвосты», то есть остатки продукта с низкой концентрацией ценных металлов.\n",
    "    На стабильность этого процесса влияет непостоянное и неоптимальное физико-химическое состояние флотационной пульпы (смеси твёрдых частиц и жидкости).\n",
    "    \n",
    "2. Очистка\n",
    "\n",
    "    Черновой концентрат проходит две очистки. На выходе получается финальный концентрат и новые отвальные хвосты."
   ]
  },
  {
   "cell_type": "markdown",
   "metadata": {},
   "source": [
    "### Описание данных\n",
    "\n",
    "**Технологический процесс**\n",
    "\n",
    "- Rougher feed — исходное сырье\n",
    "- Rougher additions (или reagent additions) — флотационные реагенты: Xanthate, Sulphate, Depressant\n",
    "    - Xanthate **— ксантогенат (промотер, или активатор флотации);\n",
    "    - Sulphate — сульфат (на данном производстве сульфид натрия);\n",
    "    - Depressant — депрессант (силикат натрия).\n",
    "- Rougher process (англ. «грубый процесс») — флотация\n",
    "- Rougher tails — отвальные хвосты\n",
    "- Float banks — флотационная установка\n",
    "- Cleaner process — очистка\n",
    "- Rougher Au — черновой концентрат золота\n",
    "- Final Au — финальный концентрат золота\n",
    "\n",
    "**Параметры этапов**\n",
    "\n",
    "- air amount — объём воздуха\n",
    "- fluid levels — уровень жидкости\n",
    "- feed size — размер гранул сырья\n",
    "- feed rate — скорость подачи\n",
    "\n",
    "### Наименование признаков\n",
    "\n",
    "Наименование признаков должно быть такое:\n",
    "\n",
    "`[этап].[тип_параметра].[название_параметра]`\n",
    "\n",
    "Пример: `rougher.input.feed_ag`\n",
    "\n",
    "Возможные значения для блока `[этап]`:\n",
    "* rougher — флотация\n",
    "* primary_cleaner — первичная очистка\n",
    "* secondary_cleaner — вторичная очистка\n",
    "* final — финальные характеристики\n",
    "Возможные значения для блока `[тип_параметра]`:\n",
    "* input — параметры сырья\n",
    "* output — параметры продукта\n",
    "* state — параметры, характеризующие текущее состояние этапа\n",
    "* calculation — расчётные характеристики\n",
    "\n",
    "### Расчёт эффективности\n",
    "Вам нужно смоделировать процесс восстановления золота из золотосодержащей руды.\n",
    "\n",
    "Эффективность обогащения рассчитывается по формуле\n",
    "\n",
    "<img src='https://pictures.s3.yandex.net/resources/Recovery_1576238822.jpg'>\n",
    "\n",
    "где:\n",
    "* C — доля золота в концентрате после флотации/очистки;\n",
    "* F — доля золота в сырье/концентрате до флотации/очистки;\n",
    "* T — доля золота в отвальных хвостах после флотации/очистки.\n",
    "\n",
    "Для прогноза коэффициента нужно найти долю золота в концентратах и хвостах. Причём важен не только финальный продукт, но и черновой концентрат.\n",
    "\n",
    "**Метрика качества**\n",
    "Для решения задачи введём новую метрику качества — sMAPE (англ. Symmetric Mean Absolute Percentage Error, «симметричное среднее абсолютное процентное отклонение»).\n",
    "\n",
    "Она похожа на MAE, но выражается не в абсолютных величинах, а в относительных. Почему симметричная? Она одинаково учитывает масштаб и целевого признака, и предсказания.\n",
    "\n",
    "Метрика sMAPE вычисляется так:\n",
    "\n",
    "<img src='https://pictures.s3.yandex.net/resources/smape_1576238825.jpg'>\n",
    "\n",
    "Нужно спрогнозировать сразу две величины:\n",
    "* эффективность обогащения чернового концентрата `rougher.output.recovery`;\n",
    "* эффективность обогащения финального концентрата `final.output.recovery`.\n",
    "\n",
    "Итоговая метрика складывается из двух величин:\n",
    "<img src='https://pictures.s3.yandex.net/resources/_smape_1576238814.jpg'>"
   ]
  },
  {
   "cell_type": "markdown",
   "metadata": {},
   "source": [
    "# <a id='step-1'>1. Подготовка данных</a>"
   ]
  },
  {
   "cell_type": "code",
   "execution_count": 1,
   "metadata": {},
   "outputs": [],
   "source": [
    "# Импортируем нужные нам модули.\n",
    "%matplotlib inline\n",
    "import pandas as pd\n",
    "from sklearn.metrics import mean_absolute_error\n",
    "import numpy as np\n",
    "import seaborn as sns\n",
    "import matplotlib.pyplot as plt\n",
    "from scipy import stats as st\n",
    "from sklearn.preprocessing import StandardScaler\n",
    "from sklearn.linear_model import LinearRegression\n",
    "from sklearn.ensemble import RandomForestRegressor\n",
    "from sklearn.tree import DecisionTreeRegressor\n",
    "from sklearn.metrics import make_scorer\n",
    "from sklearn.model_selection import cross_val_score, GridSearchCV\n",
    "from sklearn.ensemble import BaggingRegressor\n",
    "from sklearn.dummy import DummyRegressor"
   ]
  },
  {
   "cell_type": "code",
   "execution_count": 2,
   "metadata": {},
   "outputs": [
    {
     "data": {
      "text/plain": [
       "((22716, 87), (16860, 87), (5856, 53))"
      ]
     },
     "execution_count": 2,
     "metadata": {},
     "output_type": "execute_result"
    }
   ],
   "source": [
    "df_full = pd.read_csv('/datasets/gold_recovery_full.csv')\n",
    "df_train = pd.read_csv('/datasets/gold_recovery_train.csv')\n",
    "df_test = pd.read_csv('/datasets/gold_recovery_test.csv')\n",
    "\n",
    "df_full.shape, df_train.shape, df_test.shape"
   ]
  },
  {
   "cell_type": "code",
   "execution_count": 3,
   "metadata": {
    "scrolled": true
   },
   "outputs": [
    {
     "name": "stdout",
     "output_type": "stream",
     "text": [
      "<class 'pandas.core.frame.DataFrame'>\n",
      "RangeIndex: 22716 entries, 0 to 22715\n",
      "Data columns (total 87 columns):\n",
      "date                                                  22716 non-null object\n",
      "final.output.concentrate_ag                           22627 non-null float64\n",
      "final.output.concentrate_pb                           22629 non-null float64\n",
      "final.output.concentrate_sol                          22331 non-null float64\n",
      "final.output.concentrate_au                           22630 non-null float64\n",
      "final.output.recovery                                 20753 non-null float64\n",
      "final.output.tail_ag                                  22633 non-null float64\n",
      "final.output.tail_pb                                  22516 non-null float64\n",
      "final.output.tail_sol                                 22445 non-null float64\n",
      "final.output.tail_au                                  22635 non-null float64\n",
      "primary_cleaner.input.sulfate                         21107 non-null float64\n",
      "primary_cleaner.input.depressant                      21170 non-null float64\n",
      "primary_cleaner.input.feed_size                       22716 non-null float64\n",
      "primary_cleaner.input.xanthate                        21565 non-null float64\n",
      "primary_cleaner.output.concentrate_ag                 22618 non-null float64\n",
      "primary_cleaner.output.concentrate_pb                 22268 non-null float64\n",
      "primary_cleaner.output.concentrate_sol                21918 non-null float64\n",
      "primary_cleaner.output.concentrate_au                 22618 non-null float64\n",
      "primary_cleaner.output.tail_ag                        22614 non-null float64\n",
      "primary_cleaner.output.tail_pb                        22594 non-null float64\n",
      "primary_cleaner.output.tail_sol                       22365 non-null float64\n",
      "primary_cleaner.output.tail_au                        22617 non-null float64\n",
      "primary_cleaner.state.floatbank8_a_air                22660 non-null float64\n",
      "primary_cleaner.state.floatbank8_a_level              22667 non-null float64\n",
      "primary_cleaner.state.floatbank8_b_air                22660 non-null float64\n",
      "primary_cleaner.state.floatbank8_b_level              22673 non-null float64\n",
      "primary_cleaner.state.floatbank8_c_air                22662 non-null float64\n",
      "primary_cleaner.state.floatbank8_c_level              22673 non-null float64\n",
      "primary_cleaner.state.floatbank8_d_air                22661 non-null float64\n",
      "primary_cleaner.state.floatbank8_d_level              22673 non-null float64\n",
      "rougher.calculation.sulfate_to_au_concentrate         22672 non-null float64\n",
      "rougher.calculation.floatbank10_sulfate_to_au_feed    22672 non-null float64\n",
      "rougher.calculation.floatbank11_sulfate_to_au_feed    22672 non-null float64\n",
      "rougher.calculation.au_pb_ratio                       21089 non-null float64\n",
      "rougher.input.feed_ag                                 22618 non-null float64\n",
      "rougher.input.feed_pb                                 22472 non-null float64\n",
      "rougher.input.feed_rate                               22163 non-null float64\n",
      "rougher.input.feed_size                               22277 non-null float64\n",
      "rougher.input.feed_sol                                22357 non-null float64\n",
      "rougher.input.feed_au                                 22617 non-null float64\n",
      "rougher.input.floatbank10_sulfate                     21415 non-null float64\n",
      "rougher.input.floatbank10_xanthate                    22247 non-null float64\n",
      "rougher.input.floatbank11_sulfate                     22038 non-null float64\n",
      "rougher.input.floatbank11_xanthate                    20459 non-null float64\n",
      "rougher.output.concentrate_ag                         22618 non-null float64\n",
      "rougher.output.concentrate_pb                         22618 non-null float64\n",
      "rougher.output.concentrate_sol                        22526 non-null float64\n",
      "rougher.output.concentrate_au                         22618 non-null float64\n",
      "rougher.output.recovery                               19597 non-null float64\n",
      "rougher.output.tail_ag                                19979 non-null float64\n",
      "rougher.output.tail_pb                                22618 non-null float64\n",
      "rougher.output.tail_sol                               19980 non-null float64\n",
      "rougher.output.tail_au                                19980 non-null float64\n",
      "rougher.state.floatbank10_a_air                       22646 non-null float64\n",
      "rougher.state.floatbank10_a_level                     22647 non-null float64\n",
      "rougher.state.floatbank10_b_air                       22646 non-null float64\n",
      "rougher.state.floatbank10_b_level                     22647 non-null float64\n",
      "rougher.state.floatbank10_c_air                       22646 non-null float64\n",
      "rougher.state.floatbank10_c_level                     22654 non-null float64\n",
      "rougher.state.floatbank10_d_air                       22641 non-null float64\n",
      "rougher.state.floatbank10_d_level                     22649 non-null float64\n",
      "rougher.state.floatbank10_e_air                       22096 non-null float64\n",
      "rougher.state.floatbank10_e_level                     22649 non-null float64\n",
      "rougher.state.floatbank10_f_air                       22641 non-null float64\n",
      "rougher.state.floatbank10_f_level                     22642 non-null float64\n",
      "secondary_cleaner.output.tail_ag                      22616 non-null float64\n",
      "secondary_cleaner.output.tail_pb                      22600 non-null float64\n",
      "secondary_cleaner.output.tail_sol                     20501 non-null float64\n",
      "secondary_cleaner.output.tail_au                      22618 non-null float64\n",
      "secondary_cleaner.state.floatbank2_a_air              22333 non-null float64\n",
      "secondary_cleaner.state.floatbank2_a_level            22591 non-null float64\n",
      "secondary_cleaner.state.floatbank2_b_air              22538 non-null float64\n",
      "secondary_cleaner.state.floatbank2_b_level            22588 non-null float64\n",
      "secondary_cleaner.state.floatbank3_a_air              22585 non-null float64\n",
      "secondary_cleaner.state.floatbank3_a_level            22587 non-null float64\n",
      "secondary_cleaner.state.floatbank3_b_air              22592 non-null float64\n",
      "secondary_cleaner.state.floatbank3_b_level            22590 non-null float64\n",
      "secondary_cleaner.state.floatbank4_a_air              22571 non-null float64\n",
      "secondary_cleaner.state.floatbank4_a_level            22587 non-null float64\n",
      "secondary_cleaner.state.floatbank4_b_air              22608 non-null float64\n",
      "secondary_cleaner.state.floatbank4_b_level            22607 non-null float64\n",
      "secondary_cleaner.state.floatbank5_a_air              22615 non-null float64\n",
      "secondary_cleaner.state.floatbank5_a_level            22615 non-null float64\n",
      "secondary_cleaner.state.floatbank5_b_air              22615 non-null float64\n",
      "secondary_cleaner.state.floatbank5_b_level            22616 non-null float64\n",
      "secondary_cleaner.state.floatbank6_a_air              22597 non-null float64\n",
      "secondary_cleaner.state.floatbank6_a_level            22615 non-null float64\n",
      "dtypes: float64(86), object(1)\n",
      "memory usage: 15.1+ MB\n"
     ]
    },
    {
     "data": {
      "text/html": [
       "<div>\n",
       "<style scoped>\n",
       "    .dataframe tbody tr th:only-of-type {\n",
       "        vertical-align: middle;\n",
       "    }\n",
       "\n",
       "    .dataframe tbody tr th {\n",
       "        vertical-align: top;\n",
       "    }\n",
       "\n",
       "    .dataframe thead th {\n",
       "        text-align: right;\n",
       "    }\n",
       "</style>\n",
       "<table border=\"1\" class=\"dataframe\">\n",
       "  <thead>\n",
       "    <tr style=\"text-align: right;\">\n",
       "      <th></th>\n",
       "      <th>date</th>\n",
       "      <th>final.output.concentrate_ag</th>\n",
       "      <th>final.output.concentrate_pb</th>\n",
       "      <th>final.output.concentrate_sol</th>\n",
       "      <th>final.output.concentrate_au</th>\n",
       "      <th>final.output.recovery</th>\n",
       "      <th>final.output.tail_ag</th>\n",
       "      <th>final.output.tail_pb</th>\n",
       "      <th>final.output.tail_sol</th>\n",
       "      <th>final.output.tail_au</th>\n",
       "      <th>...</th>\n",
       "      <th>secondary_cleaner.state.floatbank4_a_air</th>\n",
       "      <th>secondary_cleaner.state.floatbank4_a_level</th>\n",
       "      <th>secondary_cleaner.state.floatbank4_b_air</th>\n",
       "      <th>secondary_cleaner.state.floatbank4_b_level</th>\n",
       "      <th>secondary_cleaner.state.floatbank5_a_air</th>\n",
       "      <th>secondary_cleaner.state.floatbank5_a_level</th>\n",
       "      <th>secondary_cleaner.state.floatbank5_b_air</th>\n",
       "      <th>secondary_cleaner.state.floatbank5_b_level</th>\n",
       "      <th>secondary_cleaner.state.floatbank6_a_air</th>\n",
       "      <th>secondary_cleaner.state.floatbank6_a_level</th>\n",
       "    </tr>\n",
       "  </thead>\n",
       "  <tbody>\n",
       "    <tr>\n",
       "      <td>0</td>\n",
       "      <td>2016-01-15 00:00:00</td>\n",
       "      <td>6.055403</td>\n",
       "      <td>9.889648</td>\n",
       "      <td>5.507324</td>\n",
       "      <td>42.192020</td>\n",
       "      <td>70.541216</td>\n",
       "      <td>10.411962</td>\n",
       "      <td>0.895447</td>\n",
       "      <td>16.904297</td>\n",
       "      <td>2.143149</td>\n",
       "      <td>...</td>\n",
       "      <td>14.016835</td>\n",
       "      <td>-502.488007</td>\n",
       "      <td>12.099931</td>\n",
       "      <td>-504.715942</td>\n",
       "      <td>9.925633</td>\n",
       "      <td>-498.310211</td>\n",
       "      <td>8.079666</td>\n",
       "      <td>-500.470978</td>\n",
       "      <td>14.151341</td>\n",
       "      <td>-605.841980</td>\n",
       "    </tr>\n",
       "    <tr>\n",
       "      <td>1</td>\n",
       "      <td>2016-01-15 01:00:00</td>\n",
       "      <td>6.029369</td>\n",
       "      <td>9.968944</td>\n",
       "      <td>5.257781</td>\n",
       "      <td>42.701629</td>\n",
       "      <td>69.266198</td>\n",
       "      <td>10.462676</td>\n",
       "      <td>0.927452</td>\n",
       "      <td>16.634514</td>\n",
       "      <td>2.224930</td>\n",
       "      <td>...</td>\n",
       "      <td>13.992281</td>\n",
       "      <td>-505.503262</td>\n",
       "      <td>11.950531</td>\n",
       "      <td>-501.331529</td>\n",
       "      <td>10.039245</td>\n",
       "      <td>-500.169983</td>\n",
       "      <td>7.984757</td>\n",
       "      <td>-500.582168</td>\n",
       "      <td>13.998353</td>\n",
       "      <td>-599.787184</td>\n",
       "    </tr>\n",
       "    <tr>\n",
       "      <td>2</td>\n",
       "      <td>2016-01-15 02:00:00</td>\n",
       "      <td>6.055926</td>\n",
       "      <td>10.213995</td>\n",
       "      <td>5.383759</td>\n",
       "      <td>42.657501</td>\n",
       "      <td>68.116445</td>\n",
       "      <td>10.507046</td>\n",
       "      <td>0.953716</td>\n",
       "      <td>16.208849</td>\n",
       "      <td>2.257889</td>\n",
       "      <td>...</td>\n",
       "      <td>14.015015</td>\n",
       "      <td>-502.520901</td>\n",
       "      <td>11.912783</td>\n",
       "      <td>-501.133383</td>\n",
       "      <td>10.070913</td>\n",
       "      <td>-500.129135</td>\n",
       "      <td>8.013877</td>\n",
       "      <td>-500.517572</td>\n",
       "      <td>14.028663</td>\n",
       "      <td>-601.427363</td>\n",
       "    </tr>\n",
       "    <tr>\n",
       "      <td>3</td>\n",
       "      <td>2016-01-15 03:00:00</td>\n",
       "      <td>6.047977</td>\n",
       "      <td>9.977019</td>\n",
       "      <td>4.858634</td>\n",
       "      <td>42.689819</td>\n",
       "      <td>68.347543</td>\n",
       "      <td>10.422762</td>\n",
       "      <td>0.883763</td>\n",
       "      <td>16.532835</td>\n",
       "      <td>2.146849</td>\n",
       "      <td>...</td>\n",
       "      <td>14.036510</td>\n",
       "      <td>-500.857308</td>\n",
       "      <td>11.999550</td>\n",
       "      <td>-501.193686</td>\n",
       "      <td>9.970366</td>\n",
       "      <td>-499.201640</td>\n",
       "      <td>7.977324</td>\n",
       "      <td>-500.255908</td>\n",
       "      <td>14.005551</td>\n",
       "      <td>-599.996129</td>\n",
       "    </tr>\n",
       "    <tr>\n",
       "      <td>4</td>\n",
       "      <td>2016-01-15 04:00:00</td>\n",
       "      <td>6.148599</td>\n",
       "      <td>10.142511</td>\n",
       "      <td>4.939416</td>\n",
       "      <td>42.774141</td>\n",
       "      <td>66.927016</td>\n",
       "      <td>10.360302</td>\n",
       "      <td>0.792826</td>\n",
       "      <td>16.525686</td>\n",
       "      <td>2.055292</td>\n",
       "      <td>...</td>\n",
       "      <td>14.027298</td>\n",
       "      <td>-499.838632</td>\n",
       "      <td>11.953070</td>\n",
       "      <td>-501.053894</td>\n",
       "      <td>9.925709</td>\n",
       "      <td>-501.686727</td>\n",
       "      <td>7.894242</td>\n",
       "      <td>-500.356035</td>\n",
       "      <td>13.996647</td>\n",
       "      <td>-601.496691</td>\n",
       "    </tr>\n",
       "  </tbody>\n",
       "</table>\n",
       "<p>5 rows × 87 columns</p>\n",
       "</div>"
      ],
      "text/plain": [
       "                  date  final.output.concentrate_ag  \\\n",
       "0  2016-01-15 00:00:00                     6.055403   \n",
       "1  2016-01-15 01:00:00                     6.029369   \n",
       "2  2016-01-15 02:00:00                     6.055926   \n",
       "3  2016-01-15 03:00:00                     6.047977   \n",
       "4  2016-01-15 04:00:00                     6.148599   \n",
       "\n",
       "   final.output.concentrate_pb  final.output.concentrate_sol  \\\n",
       "0                     9.889648                      5.507324   \n",
       "1                     9.968944                      5.257781   \n",
       "2                    10.213995                      5.383759   \n",
       "3                     9.977019                      4.858634   \n",
       "4                    10.142511                      4.939416   \n",
       "\n",
       "   final.output.concentrate_au  final.output.recovery  final.output.tail_ag  \\\n",
       "0                    42.192020              70.541216             10.411962   \n",
       "1                    42.701629              69.266198             10.462676   \n",
       "2                    42.657501              68.116445             10.507046   \n",
       "3                    42.689819              68.347543             10.422762   \n",
       "4                    42.774141              66.927016             10.360302   \n",
       "\n",
       "   final.output.tail_pb  final.output.tail_sol  final.output.tail_au  ...  \\\n",
       "0              0.895447              16.904297              2.143149  ...   \n",
       "1              0.927452              16.634514              2.224930  ...   \n",
       "2              0.953716              16.208849              2.257889  ...   \n",
       "3              0.883763              16.532835              2.146849  ...   \n",
       "4              0.792826              16.525686              2.055292  ...   \n",
       "\n",
       "   secondary_cleaner.state.floatbank4_a_air  \\\n",
       "0                                 14.016835   \n",
       "1                                 13.992281   \n",
       "2                                 14.015015   \n",
       "3                                 14.036510   \n",
       "4                                 14.027298   \n",
       "\n",
       "   secondary_cleaner.state.floatbank4_a_level  \\\n",
       "0                                 -502.488007   \n",
       "1                                 -505.503262   \n",
       "2                                 -502.520901   \n",
       "3                                 -500.857308   \n",
       "4                                 -499.838632   \n",
       "\n",
       "   secondary_cleaner.state.floatbank4_b_air  \\\n",
       "0                                 12.099931   \n",
       "1                                 11.950531   \n",
       "2                                 11.912783   \n",
       "3                                 11.999550   \n",
       "4                                 11.953070   \n",
       "\n",
       "   secondary_cleaner.state.floatbank4_b_level  \\\n",
       "0                                 -504.715942   \n",
       "1                                 -501.331529   \n",
       "2                                 -501.133383   \n",
       "3                                 -501.193686   \n",
       "4                                 -501.053894   \n",
       "\n",
       "   secondary_cleaner.state.floatbank5_a_air  \\\n",
       "0                                  9.925633   \n",
       "1                                 10.039245   \n",
       "2                                 10.070913   \n",
       "3                                  9.970366   \n",
       "4                                  9.925709   \n",
       "\n",
       "   secondary_cleaner.state.floatbank5_a_level  \\\n",
       "0                                 -498.310211   \n",
       "1                                 -500.169983   \n",
       "2                                 -500.129135   \n",
       "3                                 -499.201640   \n",
       "4                                 -501.686727   \n",
       "\n",
       "   secondary_cleaner.state.floatbank5_b_air  \\\n",
       "0                                  8.079666   \n",
       "1                                  7.984757   \n",
       "2                                  8.013877   \n",
       "3                                  7.977324   \n",
       "4                                  7.894242   \n",
       "\n",
       "   secondary_cleaner.state.floatbank5_b_level  \\\n",
       "0                                 -500.470978   \n",
       "1                                 -500.582168   \n",
       "2                                 -500.517572   \n",
       "3                                 -500.255908   \n",
       "4                                 -500.356035   \n",
       "\n",
       "   secondary_cleaner.state.floatbank6_a_air  \\\n",
       "0                                 14.151341   \n",
       "1                                 13.998353   \n",
       "2                                 14.028663   \n",
       "3                                 14.005551   \n",
       "4                                 13.996647   \n",
       "\n",
       "   secondary_cleaner.state.floatbank6_a_level  \n",
       "0                                 -605.841980  \n",
       "1                                 -599.787184  \n",
       "2                                 -601.427363  \n",
       "3                                 -599.996129  \n",
       "4                                 -601.496691  \n",
       "\n",
       "[5 rows x 87 columns]"
      ]
     },
     "execution_count": 3,
     "metadata": {},
     "output_type": "execute_result"
    }
   ],
   "source": [
    "df_full.info()\n",
    "df_full.head(5)"
   ]
  },
  {
   "cell_type": "code",
   "execution_count": 4,
   "metadata": {},
   "outputs": [
    {
     "name": "stdout",
     "output_type": "stream",
     "text": [
      "<class 'pandas.core.frame.DataFrame'>\n",
      "RangeIndex: 16860 entries, 0 to 16859\n",
      "Data columns (total 87 columns):\n",
      "date                                                  16860 non-null object\n",
      "final.output.concentrate_ag                           16788 non-null float64\n",
      "final.output.concentrate_pb                           16788 non-null float64\n",
      "final.output.concentrate_sol                          16490 non-null float64\n",
      "final.output.concentrate_au                           16789 non-null float64\n",
      "final.output.recovery                                 15339 non-null float64\n",
      "final.output.tail_ag                                  16794 non-null float64\n",
      "final.output.tail_pb                                  16677 non-null float64\n",
      "final.output.tail_sol                                 16715 non-null float64\n",
      "final.output.tail_au                                  16794 non-null float64\n",
      "primary_cleaner.input.sulfate                         15553 non-null float64\n",
      "primary_cleaner.input.depressant                      15598 non-null float64\n",
      "primary_cleaner.input.feed_size                       16860 non-null float64\n",
      "primary_cleaner.input.xanthate                        15875 non-null float64\n",
      "primary_cleaner.output.concentrate_ag                 16778 non-null float64\n",
      "primary_cleaner.output.concentrate_pb                 16502 non-null float64\n",
      "primary_cleaner.output.concentrate_sol                16224 non-null float64\n",
      "primary_cleaner.output.concentrate_au                 16778 non-null float64\n",
      "primary_cleaner.output.tail_ag                        16777 non-null float64\n",
      "primary_cleaner.output.tail_pb                        16761 non-null float64\n",
      "primary_cleaner.output.tail_sol                       16579 non-null float64\n",
      "primary_cleaner.output.tail_au                        16777 non-null float64\n",
      "primary_cleaner.state.floatbank8_a_air                16820 non-null float64\n",
      "primary_cleaner.state.floatbank8_a_level              16827 non-null float64\n",
      "primary_cleaner.state.floatbank8_b_air                16820 non-null float64\n",
      "primary_cleaner.state.floatbank8_b_level              16833 non-null float64\n",
      "primary_cleaner.state.floatbank8_c_air                16822 non-null float64\n",
      "primary_cleaner.state.floatbank8_c_level              16833 non-null float64\n",
      "primary_cleaner.state.floatbank8_d_air                16821 non-null float64\n",
      "primary_cleaner.state.floatbank8_d_level              16833 non-null float64\n",
      "rougher.calculation.sulfate_to_au_concentrate         16833 non-null float64\n",
      "rougher.calculation.floatbank10_sulfate_to_au_feed    16833 non-null float64\n",
      "rougher.calculation.floatbank11_sulfate_to_au_feed    16833 non-null float64\n",
      "rougher.calculation.au_pb_ratio                       15618 non-null float64\n",
      "rougher.input.feed_ag                                 16778 non-null float64\n",
      "rougher.input.feed_pb                                 16632 non-null float64\n",
      "rougher.input.feed_rate                               16347 non-null float64\n",
      "rougher.input.feed_size                               16443 non-null float64\n",
      "rougher.input.feed_sol                                16568 non-null float64\n",
      "rougher.input.feed_au                                 16777 non-null float64\n",
      "rougher.input.floatbank10_sulfate                     15816 non-null float64\n",
      "rougher.input.floatbank10_xanthate                    16514 non-null float64\n",
      "rougher.input.floatbank11_sulfate                     16237 non-null float64\n",
      "rougher.input.floatbank11_xanthate                    14956 non-null float64\n",
      "rougher.output.concentrate_ag                         16778 non-null float64\n",
      "rougher.output.concentrate_pb                         16778 non-null float64\n",
      "rougher.output.concentrate_sol                        16698 non-null float64\n",
      "rougher.output.concentrate_au                         16778 non-null float64\n",
      "rougher.output.recovery                               14287 non-null float64\n",
      "rougher.output.tail_ag                                14610 non-null float64\n",
      "rougher.output.tail_pb                                16778 non-null float64\n",
      "rougher.output.tail_sol                               14611 non-null float64\n",
      "rougher.output.tail_au                                14611 non-null float64\n",
      "rougher.state.floatbank10_a_air                       16807 non-null float64\n",
      "rougher.state.floatbank10_a_level                     16807 non-null float64\n",
      "rougher.state.floatbank10_b_air                       16807 non-null float64\n",
      "rougher.state.floatbank10_b_level                     16807 non-null float64\n",
      "rougher.state.floatbank10_c_air                       16807 non-null float64\n",
      "rougher.state.floatbank10_c_level                     16814 non-null float64\n",
      "rougher.state.floatbank10_d_air                       16802 non-null float64\n",
      "rougher.state.floatbank10_d_level                     16809 non-null float64\n",
      "rougher.state.floatbank10_e_air                       16257 non-null float64\n",
      "rougher.state.floatbank10_e_level                     16809 non-null float64\n",
      "rougher.state.floatbank10_f_air                       16802 non-null float64\n",
      "rougher.state.floatbank10_f_level                     16802 non-null float64\n",
      "secondary_cleaner.output.tail_ag                      16776 non-null float64\n",
      "secondary_cleaner.output.tail_pb                      16764 non-null float64\n",
      "secondary_cleaner.output.tail_sol                     14874 non-null float64\n",
      "secondary_cleaner.output.tail_au                      16778 non-null float64\n",
      "secondary_cleaner.state.floatbank2_a_air              16497 non-null float64\n",
      "secondary_cleaner.state.floatbank2_a_level            16751 non-null float64\n",
      "secondary_cleaner.state.floatbank2_b_air              16705 non-null float64\n",
      "secondary_cleaner.state.floatbank2_b_level            16748 non-null float64\n",
      "secondary_cleaner.state.floatbank3_a_air              16763 non-null float64\n",
      "secondary_cleaner.state.floatbank3_a_level            16747 non-null float64\n",
      "secondary_cleaner.state.floatbank3_b_air              16752 non-null float64\n",
      "secondary_cleaner.state.floatbank3_b_level            16750 non-null float64\n",
      "secondary_cleaner.state.floatbank4_a_air              16731 non-null float64\n",
      "secondary_cleaner.state.floatbank4_a_level            16747 non-null float64\n",
      "secondary_cleaner.state.floatbank4_b_air              16768 non-null float64\n",
      "secondary_cleaner.state.floatbank4_b_level            16767 non-null float64\n",
      "secondary_cleaner.state.floatbank5_a_air              16775 non-null float64\n",
      "secondary_cleaner.state.floatbank5_a_level            16775 non-null float64\n",
      "secondary_cleaner.state.floatbank5_b_air              16775 non-null float64\n",
      "secondary_cleaner.state.floatbank5_b_level            16776 non-null float64\n",
      "secondary_cleaner.state.floatbank6_a_air              16757 non-null float64\n",
      "secondary_cleaner.state.floatbank6_a_level            16775 non-null float64\n",
      "dtypes: float64(86), object(1)\n",
      "memory usage: 11.2+ MB\n"
     ]
    },
    {
     "data": {
      "text/html": [
       "<div>\n",
       "<style scoped>\n",
       "    .dataframe tbody tr th:only-of-type {\n",
       "        vertical-align: middle;\n",
       "    }\n",
       "\n",
       "    .dataframe tbody tr th {\n",
       "        vertical-align: top;\n",
       "    }\n",
       "\n",
       "    .dataframe thead th {\n",
       "        text-align: right;\n",
       "    }\n",
       "</style>\n",
       "<table border=\"1\" class=\"dataframe\">\n",
       "  <thead>\n",
       "    <tr style=\"text-align: right;\">\n",
       "      <th></th>\n",
       "      <th>date</th>\n",
       "      <th>final.output.concentrate_ag</th>\n",
       "      <th>final.output.concentrate_pb</th>\n",
       "      <th>final.output.concentrate_sol</th>\n",
       "      <th>final.output.concentrate_au</th>\n",
       "      <th>final.output.recovery</th>\n",
       "      <th>final.output.tail_ag</th>\n",
       "      <th>final.output.tail_pb</th>\n",
       "      <th>final.output.tail_sol</th>\n",
       "      <th>final.output.tail_au</th>\n",
       "      <th>...</th>\n",
       "      <th>secondary_cleaner.state.floatbank4_a_air</th>\n",
       "      <th>secondary_cleaner.state.floatbank4_a_level</th>\n",
       "      <th>secondary_cleaner.state.floatbank4_b_air</th>\n",
       "      <th>secondary_cleaner.state.floatbank4_b_level</th>\n",
       "      <th>secondary_cleaner.state.floatbank5_a_air</th>\n",
       "      <th>secondary_cleaner.state.floatbank5_a_level</th>\n",
       "      <th>secondary_cleaner.state.floatbank5_b_air</th>\n",
       "      <th>secondary_cleaner.state.floatbank5_b_level</th>\n",
       "      <th>secondary_cleaner.state.floatbank6_a_air</th>\n",
       "      <th>secondary_cleaner.state.floatbank6_a_level</th>\n",
       "    </tr>\n",
       "  </thead>\n",
       "  <tbody>\n",
       "    <tr>\n",
       "      <td>0</td>\n",
       "      <td>2016-01-15 00:00:00</td>\n",
       "      <td>6.055403</td>\n",
       "      <td>9.889648</td>\n",
       "      <td>5.507324</td>\n",
       "      <td>42.192020</td>\n",
       "      <td>70.541216</td>\n",
       "      <td>10.411962</td>\n",
       "      <td>0.895447</td>\n",
       "      <td>16.904297</td>\n",
       "      <td>2.143149</td>\n",
       "      <td>...</td>\n",
       "      <td>14.016835</td>\n",
       "      <td>-502.488007</td>\n",
       "      <td>12.099931</td>\n",
       "      <td>-504.715942</td>\n",
       "      <td>9.925633</td>\n",
       "      <td>-498.310211</td>\n",
       "      <td>8.079666</td>\n",
       "      <td>-500.470978</td>\n",
       "      <td>14.151341</td>\n",
       "      <td>-605.841980</td>\n",
       "    </tr>\n",
       "    <tr>\n",
       "      <td>1</td>\n",
       "      <td>2016-01-15 01:00:00</td>\n",
       "      <td>6.029369</td>\n",
       "      <td>9.968944</td>\n",
       "      <td>5.257781</td>\n",
       "      <td>42.701629</td>\n",
       "      <td>69.266198</td>\n",
       "      <td>10.462676</td>\n",
       "      <td>0.927452</td>\n",
       "      <td>16.634514</td>\n",
       "      <td>2.224930</td>\n",
       "      <td>...</td>\n",
       "      <td>13.992281</td>\n",
       "      <td>-505.503262</td>\n",
       "      <td>11.950531</td>\n",
       "      <td>-501.331529</td>\n",
       "      <td>10.039245</td>\n",
       "      <td>-500.169983</td>\n",
       "      <td>7.984757</td>\n",
       "      <td>-500.582168</td>\n",
       "      <td>13.998353</td>\n",
       "      <td>-599.787184</td>\n",
       "    </tr>\n",
       "    <tr>\n",
       "      <td>2</td>\n",
       "      <td>2016-01-15 02:00:00</td>\n",
       "      <td>6.055926</td>\n",
       "      <td>10.213995</td>\n",
       "      <td>5.383759</td>\n",
       "      <td>42.657501</td>\n",
       "      <td>68.116445</td>\n",
       "      <td>10.507046</td>\n",
       "      <td>0.953716</td>\n",
       "      <td>16.208849</td>\n",
       "      <td>2.257889</td>\n",
       "      <td>...</td>\n",
       "      <td>14.015015</td>\n",
       "      <td>-502.520901</td>\n",
       "      <td>11.912783</td>\n",
       "      <td>-501.133383</td>\n",
       "      <td>10.070913</td>\n",
       "      <td>-500.129135</td>\n",
       "      <td>8.013877</td>\n",
       "      <td>-500.517572</td>\n",
       "      <td>14.028663</td>\n",
       "      <td>-601.427363</td>\n",
       "    </tr>\n",
       "    <tr>\n",
       "      <td>3</td>\n",
       "      <td>2016-01-15 03:00:00</td>\n",
       "      <td>6.047977</td>\n",
       "      <td>9.977019</td>\n",
       "      <td>4.858634</td>\n",
       "      <td>42.689819</td>\n",
       "      <td>68.347543</td>\n",
       "      <td>10.422762</td>\n",
       "      <td>0.883763</td>\n",
       "      <td>16.532835</td>\n",
       "      <td>2.146849</td>\n",
       "      <td>...</td>\n",
       "      <td>14.036510</td>\n",
       "      <td>-500.857308</td>\n",
       "      <td>11.999550</td>\n",
       "      <td>-501.193686</td>\n",
       "      <td>9.970366</td>\n",
       "      <td>-499.201640</td>\n",
       "      <td>7.977324</td>\n",
       "      <td>-500.255908</td>\n",
       "      <td>14.005551</td>\n",
       "      <td>-599.996129</td>\n",
       "    </tr>\n",
       "    <tr>\n",
       "      <td>4</td>\n",
       "      <td>2016-01-15 04:00:00</td>\n",
       "      <td>6.148599</td>\n",
       "      <td>10.142511</td>\n",
       "      <td>4.939416</td>\n",
       "      <td>42.774141</td>\n",
       "      <td>66.927016</td>\n",
       "      <td>10.360302</td>\n",
       "      <td>0.792826</td>\n",
       "      <td>16.525686</td>\n",
       "      <td>2.055292</td>\n",
       "      <td>...</td>\n",
       "      <td>14.027298</td>\n",
       "      <td>-499.838632</td>\n",
       "      <td>11.953070</td>\n",
       "      <td>-501.053894</td>\n",
       "      <td>9.925709</td>\n",
       "      <td>-501.686727</td>\n",
       "      <td>7.894242</td>\n",
       "      <td>-500.356035</td>\n",
       "      <td>13.996647</td>\n",
       "      <td>-601.496691</td>\n",
       "    </tr>\n",
       "  </tbody>\n",
       "</table>\n",
       "<p>5 rows × 87 columns</p>\n",
       "</div>"
      ],
      "text/plain": [
       "                  date  final.output.concentrate_ag  \\\n",
       "0  2016-01-15 00:00:00                     6.055403   \n",
       "1  2016-01-15 01:00:00                     6.029369   \n",
       "2  2016-01-15 02:00:00                     6.055926   \n",
       "3  2016-01-15 03:00:00                     6.047977   \n",
       "4  2016-01-15 04:00:00                     6.148599   \n",
       "\n",
       "   final.output.concentrate_pb  final.output.concentrate_sol  \\\n",
       "0                     9.889648                      5.507324   \n",
       "1                     9.968944                      5.257781   \n",
       "2                    10.213995                      5.383759   \n",
       "3                     9.977019                      4.858634   \n",
       "4                    10.142511                      4.939416   \n",
       "\n",
       "   final.output.concentrate_au  final.output.recovery  final.output.tail_ag  \\\n",
       "0                    42.192020              70.541216             10.411962   \n",
       "1                    42.701629              69.266198             10.462676   \n",
       "2                    42.657501              68.116445             10.507046   \n",
       "3                    42.689819              68.347543             10.422762   \n",
       "4                    42.774141              66.927016             10.360302   \n",
       "\n",
       "   final.output.tail_pb  final.output.tail_sol  final.output.tail_au  ...  \\\n",
       "0              0.895447              16.904297              2.143149  ...   \n",
       "1              0.927452              16.634514              2.224930  ...   \n",
       "2              0.953716              16.208849              2.257889  ...   \n",
       "3              0.883763              16.532835              2.146849  ...   \n",
       "4              0.792826              16.525686              2.055292  ...   \n",
       "\n",
       "   secondary_cleaner.state.floatbank4_a_air  \\\n",
       "0                                 14.016835   \n",
       "1                                 13.992281   \n",
       "2                                 14.015015   \n",
       "3                                 14.036510   \n",
       "4                                 14.027298   \n",
       "\n",
       "   secondary_cleaner.state.floatbank4_a_level  \\\n",
       "0                                 -502.488007   \n",
       "1                                 -505.503262   \n",
       "2                                 -502.520901   \n",
       "3                                 -500.857308   \n",
       "4                                 -499.838632   \n",
       "\n",
       "   secondary_cleaner.state.floatbank4_b_air  \\\n",
       "0                                 12.099931   \n",
       "1                                 11.950531   \n",
       "2                                 11.912783   \n",
       "3                                 11.999550   \n",
       "4                                 11.953070   \n",
       "\n",
       "   secondary_cleaner.state.floatbank4_b_level  \\\n",
       "0                                 -504.715942   \n",
       "1                                 -501.331529   \n",
       "2                                 -501.133383   \n",
       "3                                 -501.193686   \n",
       "4                                 -501.053894   \n",
       "\n",
       "   secondary_cleaner.state.floatbank5_a_air  \\\n",
       "0                                  9.925633   \n",
       "1                                 10.039245   \n",
       "2                                 10.070913   \n",
       "3                                  9.970366   \n",
       "4                                  9.925709   \n",
       "\n",
       "   secondary_cleaner.state.floatbank5_a_level  \\\n",
       "0                                 -498.310211   \n",
       "1                                 -500.169983   \n",
       "2                                 -500.129135   \n",
       "3                                 -499.201640   \n",
       "4                                 -501.686727   \n",
       "\n",
       "   secondary_cleaner.state.floatbank5_b_air  \\\n",
       "0                                  8.079666   \n",
       "1                                  7.984757   \n",
       "2                                  8.013877   \n",
       "3                                  7.977324   \n",
       "4                                  7.894242   \n",
       "\n",
       "   secondary_cleaner.state.floatbank5_b_level  \\\n",
       "0                                 -500.470978   \n",
       "1                                 -500.582168   \n",
       "2                                 -500.517572   \n",
       "3                                 -500.255908   \n",
       "4                                 -500.356035   \n",
       "\n",
       "   secondary_cleaner.state.floatbank6_a_air  \\\n",
       "0                                 14.151341   \n",
       "1                                 13.998353   \n",
       "2                                 14.028663   \n",
       "3                                 14.005551   \n",
       "4                                 13.996647   \n",
       "\n",
       "   secondary_cleaner.state.floatbank6_a_level  \n",
       "0                                 -605.841980  \n",
       "1                                 -599.787184  \n",
       "2                                 -601.427363  \n",
       "3                                 -599.996129  \n",
       "4                                 -601.496691  \n",
       "\n",
       "[5 rows x 87 columns]"
      ]
     },
     "execution_count": 4,
     "metadata": {},
     "output_type": "execute_result"
    }
   ],
   "source": [
    "df_train.info()\n",
    "df_train.head(5)"
   ]
  },
  {
   "cell_type": "code",
   "execution_count": 5,
   "metadata": {
    "scrolled": true
   },
   "outputs": [
    {
     "name": "stdout",
     "output_type": "stream",
     "text": [
      "<class 'pandas.core.frame.DataFrame'>\n",
      "RangeIndex: 5856 entries, 0 to 5855\n",
      "Data columns (total 53 columns):\n",
      "date                                          5856 non-null object\n",
      "primary_cleaner.input.sulfate                 5554 non-null float64\n",
      "primary_cleaner.input.depressant              5572 non-null float64\n",
      "primary_cleaner.input.feed_size               5856 non-null float64\n",
      "primary_cleaner.input.xanthate                5690 non-null float64\n",
      "primary_cleaner.state.floatbank8_a_air        5840 non-null float64\n",
      "primary_cleaner.state.floatbank8_a_level      5840 non-null float64\n",
      "primary_cleaner.state.floatbank8_b_air        5840 non-null float64\n",
      "primary_cleaner.state.floatbank8_b_level      5840 non-null float64\n",
      "primary_cleaner.state.floatbank8_c_air        5840 non-null float64\n",
      "primary_cleaner.state.floatbank8_c_level      5840 non-null float64\n",
      "primary_cleaner.state.floatbank8_d_air        5840 non-null float64\n",
      "primary_cleaner.state.floatbank8_d_level      5840 non-null float64\n",
      "rougher.input.feed_ag                         5840 non-null float64\n",
      "rougher.input.feed_pb                         5840 non-null float64\n",
      "rougher.input.feed_rate                       5816 non-null float64\n",
      "rougher.input.feed_size                       5834 non-null float64\n",
      "rougher.input.feed_sol                        5789 non-null float64\n",
      "rougher.input.feed_au                         5840 non-null float64\n",
      "rougher.input.floatbank10_sulfate             5599 non-null float64\n",
      "rougher.input.floatbank10_xanthate            5733 non-null float64\n",
      "rougher.input.floatbank11_sulfate             5801 non-null float64\n",
      "rougher.input.floatbank11_xanthate            5503 non-null float64\n",
      "rougher.state.floatbank10_a_air               5839 non-null float64\n",
      "rougher.state.floatbank10_a_level             5840 non-null float64\n",
      "rougher.state.floatbank10_b_air               5839 non-null float64\n",
      "rougher.state.floatbank10_b_level             5840 non-null float64\n",
      "rougher.state.floatbank10_c_air               5839 non-null float64\n",
      "rougher.state.floatbank10_c_level             5840 non-null float64\n",
      "rougher.state.floatbank10_d_air               5839 non-null float64\n",
      "rougher.state.floatbank10_d_level             5840 non-null float64\n",
      "rougher.state.floatbank10_e_air               5839 non-null float64\n",
      "rougher.state.floatbank10_e_level             5840 non-null float64\n",
      "rougher.state.floatbank10_f_air               5839 non-null float64\n",
      "rougher.state.floatbank10_f_level             5840 non-null float64\n",
      "secondary_cleaner.state.floatbank2_a_air      5836 non-null float64\n",
      "secondary_cleaner.state.floatbank2_a_level    5840 non-null float64\n",
      "secondary_cleaner.state.floatbank2_b_air      5833 non-null float64\n",
      "secondary_cleaner.state.floatbank2_b_level    5840 non-null float64\n",
      "secondary_cleaner.state.floatbank3_a_air      5822 non-null float64\n",
      "secondary_cleaner.state.floatbank3_a_level    5840 non-null float64\n",
      "secondary_cleaner.state.floatbank3_b_air      5840 non-null float64\n",
      "secondary_cleaner.state.floatbank3_b_level    5840 non-null float64\n",
      "secondary_cleaner.state.floatbank4_a_air      5840 non-null float64\n",
      "secondary_cleaner.state.floatbank4_a_level    5840 non-null float64\n",
      "secondary_cleaner.state.floatbank4_b_air      5840 non-null float64\n",
      "secondary_cleaner.state.floatbank4_b_level    5840 non-null float64\n",
      "secondary_cleaner.state.floatbank5_a_air      5840 non-null float64\n",
      "secondary_cleaner.state.floatbank5_a_level    5840 non-null float64\n",
      "secondary_cleaner.state.floatbank5_b_air      5840 non-null float64\n",
      "secondary_cleaner.state.floatbank5_b_level    5840 non-null float64\n",
      "secondary_cleaner.state.floatbank6_a_air      5840 non-null float64\n",
      "secondary_cleaner.state.floatbank6_a_level    5840 non-null float64\n",
      "dtypes: float64(52), object(1)\n",
      "memory usage: 2.4+ MB\n"
     ]
    },
    {
     "data": {
      "text/html": [
       "<div>\n",
       "<style scoped>\n",
       "    .dataframe tbody tr th:only-of-type {\n",
       "        vertical-align: middle;\n",
       "    }\n",
       "\n",
       "    .dataframe tbody tr th {\n",
       "        vertical-align: top;\n",
       "    }\n",
       "\n",
       "    .dataframe thead th {\n",
       "        text-align: right;\n",
       "    }\n",
       "</style>\n",
       "<table border=\"1\" class=\"dataframe\">\n",
       "  <thead>\n",
       "    <tr style=\"text-align: right;\">\n",
       "      <th></th>\n",
       "      <th>date</th>\n",
       "      <th>primary_cleaner.input.sulfate</th>\n",
       "      <th>primary_cleaner.input.depressant</th>\n",
       "      <th>primary_cleaner.input.feed_size</th>\n",
       "      <th>primary_cleaner.input.xanthate</th>\n",
       "      <th>primary_cleaner.state.floatbank8_a_air</th>\n",
       "      <th>primary_cleaner.state.floatbank8_a_level</th>\n",
       "      <th>primary_cleaner.state.floatbank8_b_air</th>\n",
       "      <th>primary_cleaner.state.floatbank8_b_level</th>\n",
       "      <th>primary_cleaner.state.floatbank8_c_air</th>\n",
       "      <th>...</th>\n",
       "      <th>secondary_cleaner.state.floatbank4_a_air</th>\n",
       "      <th>secondary_cleaner.state.floatbank4_a_level</th>\n",
       "      <th>secondary_cleaner.state.floatbank4_b_air</th>\n",
       "      <th>secondary_cleaner.state.floatbank4_b_level</th>\n",
       "      <th>secondary_cleaner.state.floatbank5_a_air</th>\n",
       "      <th>secondary_cleaner.state.floatbank5_a_level</th>\n",
       "      <th>secondary_cleaner.state.floatbank5_b_air</th>\n",
       "      <th>secondary_cleaner.state.floatbank5_b_level</th>\n",
       "      <th>secondary_cleaner.state.floatbank6_a_air</th>\n",
       "      <th>secondary_cleaner.state.floatbank6_a_level</th>\n",
       "    </tr>\n",
       "  </thead>\n",
       "  <tbody>\n",
       "    <tr>\n",
       "      <td>0</td>\n",
       "      <td>2016-09-01 00:59:59</td>\n",
       "      <td>210.800909</td>\n",
       "      <td>14.993118</td>\n",
       "      <td>8.080000</td>\n",
       "      <td>1.005021</td>\n",
       "      <td>1398.981301</td>\n",
       "      <td>-500.225577</td>\n",
       "      <td>1399.144926</td>\n",
       "      <td>-499.919735</td>\n",
       "      <td>1400.102998</td>\n",
       "      <td>...</td>\n",
       "      <td>12.023554</td>\n",
       "      <td>-497.795834</td>\n",
       "      <td>8.016656</td>\n",
       "      <td>-501.289139</td>\n",
       "      <td>7.946562</td>\n",
       "      <td>-432.317850</td>\n",
       "      <td>4.872511</td>\n",
       "      <td>-500.037437</td>\n",
       "      <td>26.705889</td>\n",
       "      <td>-499.709414</td>\n",
       "    </tr>\n",
       "    <tr>\n",
       "      <td>1</td>\n",
       "      <td>2016-09-01 01:59:59</td>\n",
       "      <td>215.392455</td>\n",
       "      <td>14.987471</td>\n",
       "      <td>8.080000</td>\n",
       "      <td>0.990469</td>\n",
       "      <td>1398.777912</td>\n",
       "      <td>-500.057435</td>\n",
       "      <td>1398.055362</td>\n",
       "      <td>-499.778182</td>\n",
       "      <td>1396.151033</td>\n",
       "      <td>...</td>\n",
       "      <td>12.058140</td>\n",
       "      <td>-498.695773</td>\n",
       "      <td>8.130979</td>\n",
       "      <td>-499.634209</td>\n",
       "      <td>7.958270</td>\n",
       "      <td>-525.839648</td>\n",
       "      <td>4.878850</td>\n",
       "      <td>-500.162375</td>\n",
       "      <td>25.019940</td>\n",
       "      <td>-499.819438</td>\n",
       "    </tr>\n",
       "    <tr>\n",
       "      <td>2</td>\n",
       "      <td>2016-09-01 02:59:59</td>\n",
       "      <td>215.259946</td>\n",
       "      <td>12.884934</td>\n",
       "      <td>7.786667</td>\n",
       "      <td>0.996043</td>\n",
       "      <td>1398.493666</td>\n",
       "      <td>-500.868360</td>\n",
       "      <td>1398.860436</td>\n",
       "      <td>-499.764529</td>\n",
       "      <td>1398.075709</td>\n",
       "      <td>...</td>\n",
       "      <td>11.962366</td>\n",
       "      <td>-498.767484</td>\n",
       "      <td>8.096893</td>\n",
       "      <td>-500.827423</td>\n",
       "      <td>8.071056</td>\n",
       "      <td>-500.801673</td>\n",
       "      <td>4.905125</td>\n",
       "      <td>-499.828510</td>\n",
       "      <td>24.994862</td>\n",
       "      <td>-500.622559</td>\n",
       "    </tr>\n",
       "    <tr>\n",
       "      <td>3</td>\n",
       "      <td>2016-09-01 03:59:59</td>\n",
       "      <td>215.336236</td>\n",
       "      <td>12.006805</td>\n",
       "      <td>7.640000</td>\n",
       "      <td>0.863514</td>\n",
       "      <td>1399.618111</td>\n",
       "      <td>-498.863574</td>\n",
       "      <td>1397.440120</td>\n",
       "      <td>-499.211024</td>\n",
       "      <td>1400.129303</td>\n",
       "      <td>...</td>\n",
       "      <td>12.033091</td>\n",
       "      <td>-498.350935</td>\n",
       "      <td>8.074946</td>\n",
       "      <td>-499.474407</td>\n",
       "      <td>7.897085</td>\n",
       "      <td>-500.868509</td>\n",
       "      <td>4.931400</td>\n",
       "      <td>-499.963623</td>\n",
       "      <td>24.948919</td>\n",
       "      <td>-498.709987</td>\n",
       "    </tr>\n",
       "    <tr>\n",
       "      <td>4</td>\n",
       "      <td>2016-09-01 04:59:59</td>\n",
       "      <td>199.099327</td>\n",
       "      <td>10.682530</td>\n",
       "      <td>7.530000</td>\n",
       "      <td>0.805575</td>\n",
       "      <td>1401.268123</td>\n",
       "      <td>-500.808305</td>\n",
       "      <td>1398.128818</td>\n",
       "      <td>-499.504543</td>\n",
       "      <td>1402.172226</td>\n",
       "      <td>...</td>\n",
       "      <td>12.025367</td>\n",
       "      <td>-500.786497</td>\n",
       "      <td>8.054678</td>\n",
       "      <td>-500.397500</td>\n",
       "      <td>8.107890</td>\n",
       "      <td>-509.526725</td>\n",
       "      <td>4.957674</td>\n",
       "      <td>-500.360026</td>\n",
       "      <td>25.003331</td>\n",
       "      <td>-500.856333</td>\n",
       "    </tr>\n",
       "  </tbody>\n",
       "</table>\n",
       "<p>5 rows × 53 columns</p>\n",
       "</div>"
      ],
      "text/plain": [
       "                  date  primary_cleaner.input.sulfate  \\\n",
       "0  2016-09-01 00:59:59                     210.800909   \n",
       "1  2016-09-01 01:59:59                     215.392455   \n",
       "2  2016-09-01 02:59:59                     215.259946   \n",
       "3  2016-09-01 03:59:59                     215.336236   \n",
       "4  2016-09-01 04:59:59                     199.099327   \n",
       "\n",
       "   primary_cleaner.input.depressant  primary_cleaner.input.feed_size  \\\n",
       "0                         14.993118                         8.080000   \n",
       "1                         14.987471                         8.080000   \n",
       "2                         12.884934                         7.786667   \n",
       "3                         12.006805                         7.640000   \n",
       "4                         10.682530                         7.530000   \n",
       "\n",
       "   primary_cleaner.input.xanthate  primary_cleaner.state.floatbank8_a_air  \\\n",
       "0                        1.005021                             1398.981301   \n",
       "1                        0.990469                             1398.777912   \n",
       "2                        0.996043                             1398.493666   \n",
       "3                        0.863514                             1399.618111   \n",
       "4                        0.805575                             1401.268123   \n",
       "\n",
       "   primary_cleaner.state.floatbank8_a_level  \\\n",
       "0                               -500.225577   \n",
       "1                               -500.057435   \n",
       "2                               -500.868360   \n",
       "3                               -498.863574   \n",
       "4                               -500.808305   \n",
       "\n",
       "   primary_cleaner.state.floatbank8_b_air  \\\n",
       "0                             1399.144926   \n",
       "1                             1398.055362   \n",
       "2                             1398.860436   \n",
       "3                             1397.440120   \n",
       "4                             1398.128818   \n",
       "\n",
       "   primary_cleaner.state.floatbank8_b_level  \\\n",
       "0                               -499.919735   \n",
       "1                               -499.778182   \n",
       "2                               -499.764529   \n",
       "3                               -499.211024   \n",
       "4                               -499.504543   \n",
       "\n",
       "   primary_cleaner.state.floatbank8_c_air  ...  \\\n",
       "0                             1400.102998  ...   \n",
       "1                             1396.151033  ...   \n",
       "2                             1398.075709  ...   \n",
       "3                             1400.129303  ...   \n",
       "4                             1402.172226  ...   \n",
       "\n",
       "   secondary_cleaner.state.floatbank4_a_air  \\\n",
       "0                                 12.023554   \n",
       "1                                 12.058140   \n",
       "2                                 11.962366   \n",
       "3                                 12.033091   \n",
       "4                                 12.025367   \n",
       "\n",
       "   secondary_cleaner.state.floatbank4_a_level  \\\n",
       "0                                 -497.795834   \n",
       "1                                 -498.695773   \n",
       "2                                 -498.767484   \n",
       "3                                 -498.350935   \n",
       "4                                 -500.786497   \n",
       "\n",
       "   secondary_cleaner.state.floatbank4_b_air  \\\n",
       "0                                  8.016656   \n",
       "1                                  8.130979   \n",
       "2                                  8.096893   \n",
       "3                                  8.074946   \n",
       "4                                  8.054678   \n",
       "\n",
       "   secondary_cleaner.state.floatbank4_b_level  \\\n",
       "0                                 -501.289139   \n",
       "1                                 -499.634209   \n",
       "2                                 -500.827423   \n",
       "3                                 -499.474407   \n",
       "4                                 -500.397500   \n",
       "\n",
       "   secondary_cleaner.state.floatbank5_a_air  \\\n",
       "0                                  7.946562   \n",
       "1                                  7.958270   \n",
       "2                                  8.071056   \n",
       "3                                  7.897085   \n",
       "4                                  8.107890   \n",
       "\n",
       "   secondary_cleaner.state.floatbank5_a_level  \\\n",
       "0                                 -432.317850   \n",
       "1                                 -525.839648   \n",
       "2                                 -500.801673   \n",
       "3                                 -500.868509   \n",
       "4                                 -509.526725   \n",
       "\n",
       "   secondary_cleaner.state.floatbank5_b_air  \\\n",
       "0                                  4.872511   \n",
       "1                                  4.878850   \n",
       "2                                  4.905125   \n",
       "3                                  4.931400   \n",
       "4                                  4.957674   \n",
       "\n",
       "   secondary_cleaner.state.floatbank5_b_level  \\\n",
       "0                                 -500.037437   \n",
       "1                                 -500.162375   \n",
       "2                                 -499.828510   \n",
       "3                                 -499.963623   \n",
       "4                                 -500.360026   \n",
       "\n",
       "   secondary_cleaner.state.floatbank6_a_air  \\\n",
       "0                                 26.705889   \n",
       "1                                 25.019940   \n",
       "2                                 24.994862   \n",
       "3                                 24.948919   \n",
       "4                                 25.003331   \n",
       "\n",
       "   secondary_cleaner.state.floatbank6_a_level  \n",
       "0                                 -499.709414  \n",
       "1                                 -499.819438  \n",
       "2                                 -500.622559  \n",
       "3                                 -498.709987  \n",
       "4                                 -500.856333  \n",
       "\n",
       "[5 rows x 53 columns]"
      ]
     },
     "execution_count": 5,
     "metadata": {},
     "output_type": "execute_result"
    }
   ],
   "source": [
    "df_test.info()\n",
    "df_test.head(5)"
   ]
  },
  {
   "cell_type": "markdown",
   "metadata": {},
   "source": [
    "Рассчитаем MAE, для этого выберем только те признаки, которые участвуют в рассчете, а также отбросим `recovery` с пропусками."
   ]
  },
  {
   "cell_type": "code",
   "execution_count": 6,
   "metadata": {},
   "outputs": [],
   "source": [
    "# MAE для флотации\n",
    "df_mae = df_train.loc[:, ['rougher.output.concentrate_au', \n",
    "                          'rougher.input.feed_au', \n",
    "                          'rougher.output.tail_au', \n",
    "                          'rougher.output.recovery']].dropna(\n",
    "    subset = ['rougher.output.recovery'])"
   ]
  },
  {
   "cell_type": "code",
   "execution_count": 7,
   "metadata": {},
   "outputs": [],
   "source": [
    "# MAE для финальной очистки\n",
    "df_mae_2 = df_train.loc[:, ['final.output.concentrate_au', \n",
    "                          'rougher.input.feed_au', \n",
    "                          'final.output.tail_au', \n",
    "                          'final.output.recovery']].dropna(\n",
    "    subset = ['final.output.recovery'])"
   ]
  },
  {
   "cell_type": "markdown",
   "metadata": {},
   "source": [
    "Заполним пропуски ближайшими значениями."
   ]
  },
  {
   "cell_type": "code",
   "execution_count": 8,
   "metadata": {},
   "outputs": [],
   "source": [
    "df_mae.fillna(method = 'ffill', inplace=True)\n",
    "df_mae_2.fillna(method = 'ffill', inplace=True)"
   ]
  },
  {
   "cell_type": "code",
   "execution_count": 9,
   "metadata": {},
   "outputs": [],
   "source": [
    "def recovery_calculation(C, F, T):\n",
    "    \"\"\"\n",
    "    Рассчет recovery по заданным значениям C, F, T\n",
    "    Если значение F равно нулю выводит ноль\n",
    "    \"\"\"\n",
    "    if F != 0:\n",
    "        return ((C*(F-T)) / (F*(C-T)))*100\n",
    "    return 0"
   ]
  },
  {
   "cell_type": "code",
   "execution_count": 10,
   "metadata": {},
   "outputs": [],
   "source": [
    "def rougher_recovery(row):\n",
    "    \"\"\"\n",
    "    Функция выделяет из датасета необходимые для рассчета recovery признаки для этапа флотации\n",
    "    \"\"\"\n",
    "    C = row['rougher.output.concentrate_au']\n",
    "    F = row['rougher.input.feed_au']\n",
    "    T = row['rougher.output.tail_au']\n",
    "    return recovery_calculation(C, F, T)"
   ]
  },
  {
   "cell_type": "code",
   "execution_count": 11,
   "metadata": {},
   "outputs": [],
   "source": [
    "def final_recovery(row):\n",
    "    \"\"\"\n",
    "    Функция выделяет из датасета необходимы для рассчета recovery признаки для этапа финальной очистки\n",
    "    \"\"\"\n",
    "    C = row['final.output.concentrate_au']\n",
    "    F = row['rougher.input.feed_au']\n",
    "    T = row['final.output.tail_au']\n",
    "    return recovery_calculation(C, F, T)"
   ]
  },
  {
   "cell_type": "code",
   "execution_count": 12,
   "metadata": {},
   "outputs": [
    {
     "name": "stdout",
     "output_type": "stream",
     "text": [
      "MAE рассчитанных и заданных значений recovery для этапа флотации:\n"
     ]
    },
    {
     "data": {
      "text/plain": [
       "9.444891926100695e-15"
      ]
     },
     "execution_count": 12,
     "metadata": {},
     "output_type": "execute_result"
    }
   ],
   "source": [
    "df_mae['rougher.output.recovery_new'] = df_mae.apply(rougher_recovery, axis =1)\n",
    "print('MAE рассчитанных и заданных значений recovery для этапа флотации:')\n",
    "mean_absolute_error(df_mae['rougher.output.recovery'], df_mae['rougher.output.recovery_new'])"
   ]
  },
  {
   "cell_type": "code",
   "execution_count": 13,
   "metadata": {},
   "outputs": [
    {
     "name": "stdout",
     "output_type": "stream",
     "text": [
      "MAE рассчитанных и заданных значений recovery для этапа финальной очистки:\n"
     ]
    },
    {
     "data": {
      "text/plain": [
       "8.158251945945868e-15"
      ]
     },
     "execution_count": 13,
     "metadata": {},
     "output_type": "execute_result"
    }
   ],
   "source": [
    "df_mae_2['final.output.recovery_new'] = df_mae_2.apply(final_recovery, axis =1)\n",
    "print('MAE рассчитанных и заданных значений recovery для этапа финальной очистки:')\n",
    "mean_absolute_error(df_mae_2['final.output.recovery'], df_mae_2['final.output.recovery_new'])"
   ]
  },
  {
   "cell_type": "markdown",
   "metadata": {},
   "source": [
    "#### Вывод\n",
    "Значения MAE стремится к нулю, значит, значения `recovery`, представленные в датасете, верны. Ненулевой MAE вероятно связан с тем, что были заполнены пропуски в значениях, участвовавших в рассчёте."
   ]
  },
  {
   "cell_type": "markdown",
   "metadata": {},
   "source": [
    "Посмотрим на признаки, которые не представлены в тестовой выборке."
   ]
  },
  {
   "cell_type": "code",
   "execution_count": 14,
   "metadata": {},
   "outputs": [
    {
     "name": "stdout",
     "output_type": "stream",
     "text": [
      "<class 'pandas.core.frame.DataFrame'>\n",
      "RangeIndex: 16860 entries, 0 to 16859\n",
      "Data columns (total 34 columns):\n",
      "final.output.concentrate_ag                           16788 non-null float64\n",
      "final.output.concentrate_pb                           16788 non-null float64\n",
      "final.output.concentrate_sol                          16490 non-null float64\n",
      "final.output.concentrate_au                           16789 non-null float64\n",
      "final.output.recovery                                 15339 non-null float64\n",
      "final.output.tail_ag                                  16794 non-null float64\n",
      "final.output.tail_pb                                  16677 non-null float64\n",
      "final.output.tail_sol                                 16715 non-null float64\n",
      "final.output.tail_au                                  16794 non-null float64\n",
      "primary_cleaner.output.concentrate_ag                 16778 non-null float64\n",
      "primary_cleaner.output.concentrate_pb                 16502 non-null float64\n",
      "primary_cleaner.output.concentrate_sol                16224 non-null float64\n",
      "primary_cleaner.output.concentrate_au                 16778 non-null float64\n",
      "primary_cleaner.output.tail_ag                        16777 non-null float64\n",
      "primary_cleaner.output.tail_pb                        16761 non-null float64\n",
      "primary_cleaner.output.tail_sol                       16579 non-null float64\n",
      "primary_cleaner.output.tail_au                        16777 non-null float64\n",
      "rougher.calculation.sulfate_to_au_concentrate         16833 non-null float64\n",
      "rougher.calculation.floatbank10_sulfate_to_au_feed    16833 non-null float64\n",
      "rougher.calculation.floatbank11_sulfate_to_au_feed    16833 non-null float64\n",
      "rougher.calculation.au_pb_ratio                       15618 non-null float64\n",
      "rougher.output.concentrate_ag                         16778 non-null float64\n",
      "rougher.output.concentrate_pb                         16778 non-null float64\n",
      "rougher.output.concentrate_sol                        16698 non-null float64\n",
      "rougher.output.concentrate_au                         16778 non-null float64\n",
      "rougher.output.recovery                               14287 non-null float64\n",
      "rougher.output.tail_ag                                14610 non-null float64\n",
      "rougher.output.tail_pb                                16778 non-null float64\n",
      "rougher.output.tail_sol                               14611 non-null float64\n",
      "rougher.output.tail_au                                14611 non-null float64\n",
      "secondary_cleaner.output.tail_ag                      16776 non-null float64\n",
      "secondary_cleaner.output.tail_pb                      16764 non-null float64\n",
      "secondary_cleaner.output.tail_sol                     14874 non-null float64\n",
      "secondary_cleaner.output.tail_au                      16778 non-null float64\n",
      "dtypes: float64(34)\n",
      "memory usage: 4.4 MB\n"
     ]
    }
   ],
   "source": [
    "df_train.drop(df_test.columns, axis = 1).info()"
   ]
  },
  {
   "cell_type": "markdown",
   "metadata": {},
   "source": [
    "В тестовой выборке не представлены параметры типа `output` и `calculation`. Это параметры измерение которых возможно только после обработки сырья, и неправильно было бы их использовать для обучения модели предсказания."
   ]
  },
  {
   "cell_type": "markdown",
   "metadata": {},
   "source": [
    "Проведем предобработку тренировочной и тестовой выборок, так как обучение модели будет производиться на них. Сначала исключим из тренировочной выборки строки с пропусками в значениях целевых признаков."
   ]
  },
  {
   "cell_type": "code",
   "execution_count": 15,
   "metadata": {},
   "outputs": [
    {
     "name": "stdout",
     "output_type": "stream",
     "text": [
      "После исключения пропусков в целевых признаках осталось 83.92% датасета\n"
     ]
    }
   ],
   "source": [
    "before = len(df_train)\n",
    "df_train = df_train.dropna(subset = ['rougher.output.recovery', 'final.output.recovery'])\n",
    "after = len(df_train)\n",
    "print('После исключения пропусков в целевых признаках осталось {:.2f}% датасета'.format((after/before)*100))"
   ]
  },
  {
   "cell_type": "markdown",
   "metadata": {},
   "source": [
    "Пропуски в признаках заполним ближайшими значениями."
   ]
  },
  {
   "cell_type": "code",
   "execution_count": 16,
   "metadata": {},
   "outputs": [],
   "source": [
    "df_train = df_train.fillna(method='ffill')\n",
    "df_test = df_test.fillna(method='ffill')"
   ]
  },
  {
   "cell_type": "code",
   "execution_count": 17,
   "metadata": {},
   "outputs": [
    {
     "name": "stdout",
     "output_type": "stream",
     "text": [
      "<class 'pandas.core.frame.DataFrame'>\n",
      "Int64Index: 14149 entries, 0 to 16859\n",
      "Data columns (total 87 columns):\n",
      "date                                                  14149 non-null object\n",
      "final.output.concentrate_ag                           14149 non-null float64\n",
      "final.output.concentrate_pb                           14149 non-null float64\n",
      "final.output.concentrate_sol                          14149 non-null float64\n",
      "final.output.concentrate_au                           14149 non-null float64\n",
      "final.output.recovery                                 14149 non-null float64\n",
      "final.output.tail_ag                                  14149 non-null float64\n",
      "final.output.tail_pb                                  14149 non-null float64\n",
      "final.output.tail_sol                                 14149 non-null float64\n",
      "final.output.tail_au                                  14149 non-null float64\n",
      "primary_cleaner.input.sulfate                         14149 non-null float64\n",
      "primary_cleaner.input.depressant                      14149 non-null float64\n",
      "primary_cleaner.input.feed_size                       14149 non-null float64\n",
      "primary_cleaner.input.xanthate                        14149 non-null float64\n",
      "primary_cleaner.output.concentrate_ag                 14149 non-null float64\n",
      "primary_cleaner.output.concentrate_pb                 14149 non-null float64\n",
      "primary_cleaner.output.concentrate_sol                14149 non-null float64\n",
      "primary_cleaner.output.concentrate_au                 14149 non-null float64\n",
      "primary_cleaner.output.tail_ag                        14149 non-null float64\n",
      "primary_cleaner.output.tail_pb                        14149 non-null float64\n",
      "primary_cleaner.output.tail_sol                       14149 non-null float64\n",
      "primary_cleaner.output.tail_au                        14149 non-null float64\n",
      "primary_cleaner.state.floatbank8_a_air                14149 non-null float64\n",
      "primary_cleaner.state.floatbank8_a_level              14149 non-null float64\n",
      "primary_cleaner.state.floatbank8_b_air                14149 non-null float64\n",
      "primary_cleaner.state.floatbank8_b_level              14149 non-null float64\n",
      "primary_cleaner.state.floatbank8_c_air                14149 non-null float64\n",
      "primary_cleaner.state.floatbank8_c_level              14149 non-null float64\n",
      "primary_cleaner.state.floatbank8_d_air                14149 non-null float64\n",
      "primary_cleaner.state.floatbank8_d_level              14149 non-null float64\n",
      "rougher.calculation.sulfate_to_au_concentrate         14149 non-null float64\n",
      "rougher.calculation.floatbank10_sulfate_to_au_feed    14149 non-null float64\n",
      "rougher.calculation.floatbank11_sulfate_to_au_feed    14149 non-null float64\n",
      "rougher.calculation.au_pb_ratio                       14149 non-null float64\n",
      "rougher.input.feed_ag                                 14149 non-null float64\n",
      "rougher.input.feed_pb                                 14149 non-null float64\n",
      "rougher.input.feed_rate                               14149 non-null float64\n",
      "rougher.input.feed_size                               14149 non-null float64\n",
      "rougher.input.feed_sol                                14149 non-null float64\n",
      "rougher.input.feed_au                                 14149 non-null float64\n",
      "rougher.input.floatbank10_sulfate                     14149 non-null float64\n",
      "rougher.input.floatbank10_xanthate                    14149 non-null float64\n",
      "rougher.input.floatbank11_sulfate                     14149 non-null float64\n",
      "rougher.input.floatbank11_xanthate                    14149 non-null float64\n",
      "rougher.output.concentrate_ag                         14149 non-null float64\n",
      "rougher.output.concentrate_pb                         14149 non-null float64\n",
      "rougher.output.concentrate_sol                        14149 non-null float64\n",
      "rougher.output.concentrate_au                         14149 non-null float64\n",
      "rougher.output.recovery                               14149 non-null float64\n",
      "rougher.output.tail_ag                                14149 non-null float64\n",
      "rougher.output.tail_pb                                14149 non-null float64\n",
      "rougher.output.tail_sol                               14149 non-null float64\n",
      "rougher.output.tail_au                                14149 non-null float64\n",
      "rougher.state.floatbank10_a_air                       14149 non-null float64\n",
      "rougher.state.floatbank10_a_level                     14149 non-null float64\n",
      "rougher.state.floatbank10_b_air                       14149 non-null float64\n",
      "rougher.state.floatbank10_b_level                     14149 non-null float64\n",
      "rougher.state.floatbank10_c_air                       14149 non-null float64\n",
      "rougher.state.floatbank10_c_level                     14149 non-null float64\n",
      "rougher.state.floatbank10_d_air                       14149 non-null float64\n",
      "rougher.state.floatbank10_d_level                     14149 non-null float64\n",
      "rougher.state.floatbank10_e_air                       14149 non-null float64\n",
      "rougher.state.floatbank10_e_level                     14149 non-null float64\n",
      "rougher.state.floatbank10_f_air                       14149 non-null float64\n",
      "rougher.state.floatbank10_f_level                     14149 non-null float64\n",
      "secondary_cleaner.output.tail_ag                      14149 non-null float64\n",
      "secondary_cleaner.output.tail_pb                      14149 non-null float64\n",
      "secondary_cleaner.output.tail_sol                     14149 non-null float64\n",
      "secondary_cleaner.output.tail_au                      14149 non-null float64\n",
      "secondary_cleaner.state.floatbank2_a_air              14149 non-null float64\n",
      "secondary_cleaner.state.floatbank2_a_level            14149 non-null float64\n",
      "secondary_cleaner.state.floatbank2_b_air              14149 non-null float64\n",
      "secondary_cleaner.state.floatbank2_b_level            14149 non-null float64\n",
      "secondary_cleaner.state.floatbank3_a_air              14149 non-null float64\n",
      "secondary_cleaner.state.floatbank3_a_level            14149 non-null float64\n",
      "secondary_cleaner.state.floatbank3_b_air              14149 non-null float64\n",
      "secondary_cleaner.state.floatbank3_b_level            14149 non-null float64\n",
      "secondary_cleaner.state.floatbank4_a_air              14149 non-null float64\n",
      "secondary_cleaner.state.floatbank4_a_level            14149 non-null float64\n",
      "secondary_cleaner.state.floatbank4_b_air              14149 non-null float64\n",
      "secondary_cleaner.state.floatbank4_b_level            14149 non-null float64\n",
      "secondary_cleaner.state.floatbank5_a_air              14149 non-null float64\n",
      "secondary_cleaner.state.floatbank5_a_level            14149 non-null float64\n",
      "secondary_cleaner.state.floatbank5_b_air              14149 non-null float64\n",
      "secondary_cleaner.state.floatbank5_b_level            14149 non-null float64\n",
      "secondary_cleaner.state.floatbank6_a_air              14149 non-null float64\n",
      "secondary_cleaner.state.floatbank6_a_level            14149 non-null float64\n",
      "dtypes: float64(86), object(1)\n",
      "memory usage: 9.5+ MB\n"
     ]
    }
   ],
   "source": [
    "df_train.info()"
   ]
  },
  {
   "cell_type": "code",
   "execution_count": 18,
   "metadata": {},
   "outputs": [
    {
     "name": "stdout",
     "output_type": "stream",
     "text": [
      "<class 'pandas.core.frame.DataFrame'>\n",
      "RangeIndex: 5856 entries, 0 to 5855\n",
      "Data columns (total 53 columns):\n",
      "date                                          5856 non-null object\n",
      "primary_cleaner.input.sulfate                 5856 non-null float64\n",
      "primary_cleaner.input.depressant              5856 non-null float64\n",
      "primary_cleaner.input.feed_size               5856 non-null float64\n",
      "primary_cleaner.input.xanthate                5856 non-null float64\n",
      "primary_cleaner.state.floatbank8_a_air        5856 non-null float64\n",
      "primary_cleaner.state.floatbank8_a_level      5856 non-null float64\n",
      "primary_cleaner.state.floatbank8_b_air        5856 non-null float64\n",
      "primary_cleaner.state.floatbank8_b_level      5856 non-null float64\n",
      "primary_cleaner.state.floatbank8_c_air        5856 non-null float64\n",
      "primary_cleaner.state.floatbank8_c_level      5856 non-null float64\n",
      "primary_cleaner.state.floatbank8_d_air        5856 non-null float64\n",
      "primary_cleaner.state.floatbank8_d_level      5856 non-null float64\n",
      "rougher.input.feed_ag                         5856 non-null float64\n",
      "rougher.input.feed_pb                         5856 non-null float64\n",
      "rougher.input.feed_rate                       5856 non-null float64\n",
      "rougher.input.feed_size                       5856 non-null float64\n",
      "rougher.input.feed_sol                        5856 non-null float64\n",
      "rougher.input.feed_au                         5856 non-null float64\n",
      "rougher.input.floatbank10_sulfate             5856 non-null float64\n",
      "rougher.input.floatbank10_xanthate            5856 non-null float64\n",
      "rougher.input.floatbank11_sulfate             5856 non-null float64\n",
      "rougher.input.floatbank11_xanthate            5856 non-null float64\n",
      "rougher.state.floatbank10_a_air               5856 non-null float64\n",
      "rougher.state.floatbank10_a_level             5856 non-null float64\n",
      "rougher.state.floatbank10_b_air               5856 non-null float64\n",
      "rougher.state.floatbank10_b_level             5856 non-null float64\n",
      "rougher.state.floatbank10_c_air               5856 non-null float64\n",
      "rougher.state.floatbank10_c_level             5856 non-null float64\n",
      "rougher.state.floatbank10_d_air               5856 non-null float64\n",
      "rougher.state.floatbank10_d_level             5856 non-null float64\n",
      "rougher.state.floatbank10_e_air               5856 non-null float64\n",
      "rougher.state.floatbank10_e_level             5856 non-null float64\n",
      "rougher.state.floatbank10_f_air               5856 non-null float64\n",
      "rougher.state.floatbank10_f_level             5856 non-null float64\n",
      "secondary_cleaner.state.floatbank2_a_air      5856 non-null float64\n",
      "secondary_cleaner.state.floatbank2_a_level    5856 non-null float64\n",
      "secondary_cleaner.state.floatbank2_b_air      5856 non-null float64\n",
      "secondary_cleaner.state.floatbank2_b_level    5856 non-null float64\n",
      "secondary_cleaner.state.floatbank3_a_air      5856 non-null float64\n",
      "secondary_cleaner.state.floatbank3_a_level    5856 non-null float64\n",
      "secondary_cleaner.state.floatbank3_b_air      5856 non-null float64\n",
      "secondary_cleaner.state.floatbank3_b_level    5856 non-null float64\n",
      "secondary_cleaner.state.floatbank4_a_air      5856 non-null float64\n",
      "secondary_cleaner.state.floatbank4_a_level    5856 non-null float64\n",
      "secondary_cleaner.state.floatbank4_b_air      5856 non-null float64\n",
      "secondary_cleaner.state.floatbank4_b_level    5856 non-null float64\n",
      "secondary_cleaner.state.floatbank5_a_air      5856 non-null float64\n",
      "secondary_cleaner.state.floatbank5_a_level    5856 non-null float64\n",
      "secondary_cleaner.state.floatbank5_b_air      5856 non-null float64\n",
      "secondary_cleaner.state.floatbank5_b_level    5856 non-null float64\n",
      "secondary_cleaner.state.floatbank6_a_air      5856 non-null float64\n",
      "secondary_cleaner.state.floatbank6_a_level    5856 non-null float64\n",
      "dtypes: float64(52), object(1)\n",
      "memory usage: 2.4+ MB\n"
     ]
    }
   ],
   "source": [
    "df_test.info()"
   ]
  },
  {
   "cell_type": "markdown",
   "metadata": {},
   "source": [
    "Приведем столбец `date` в трех датасетах к формату DateTime и округлим значения до одного часа."
   ]
  },
  {
   "cell_type": "code",
   "execution_count": 19,
   "metadata": {},
   "outputs": [],
   "source": [
    "def to_date(df):\n",
    "    df['date'] = pd.to_datetime(df['date'], format='%Y-%m-%d %H:%M:%S')\n",
    "    df['date'] = df['date'].dt.round('1H')"
   ]
  },
  {
   "cell_type": "code",
   "execution_count": 20,
   "metadata": {},
   "outputs": [],
   "source": [
    "to_date(df_train)\n",
    "to_date(df_test)\n",
    "to_date(df_full)"
   ]
  },
  {
   "cell_type": "markdown",
   "metadata": {},
   "source": [
    "Добавим в тестовый датасет значения целевых признаков из полного датасета. Строки с отсутствующим целевым признаком исключаем."
   ]
  },
  {
   "cell_type": "code",
   "execution_count": 21,
   "metadata": {
    "scrolled": true
   },
   "outputs": [
    {
     "name": "stdout",
     "output_type": "stream",
     "text": [
      "<class 'pandas.core.frame.DataFrame'>\n",
      "Int64Index: 5290 entries, 0 to 5855\n",
      "Data columns (total 55 columns):\n",
      "date                                          5290 non-null datetime64[ns]\n",
      "primary_cleaner.input.sulfate                 5290 non-null float64\n",
      "primary_cleaner.input.depressant              5290 non-null float64\n",
      "primary_cleaner.input.feed_size               5290 non-null float64\n",
      "primary_cleaner.input.xanthate                5290 non-null float64\n",
      "primary_cleaner.state.floatbank8_a_air        5290 non-null float64\n",
      "primary_cleaner.state.floatbank8_a_level      5290 non-null float64\n",
      "primary_cleaner.state.floatbank8_b_air        5290 non-null float64\n",
      "primary_cleaner.state.floatbank8_b_level      5290 non-null float64\n",
      "primary_cleaner.state.floatbank8_c_air        5290 non-null float64\n",
      "primary_cleaner.state.floatbank8_c_level      5290 non-null float64\n",
      "primary_cleaner.state.floatbank8_d_air        5290 non-null float64\n",
      "primary_cleaner.state.floatbank8_d_level      5290 non-null float64\n",
      "rougher.input.feed_ag                         5290 non-null float64\n",
      "rougher.input.feed_pb                         5290 non-null float64\n",
      "rougher.input.feed_rate                       5290 non-null float64\n",
      "rougher.input.feed_size                       5290 non-null float64\n",
      "rougher.input.feed_sol                        5290 non-null float64\n",
      "rougher.input.feed_au                         5290 non-null float64\n",
      "rougher.input.floatbank10_sulfate             5290 non-null float64\n",
      "rougher.input.floatbank10_xanthate            5290 non-null float64\n",
      "rougher.input.floatbank11_sulfate             5290 non-null float64\n",
      "rougher.input.floatbank11_xanthate            5290 non-null float64\n",
      "rougher.state.floatbank10_a_air               5290 non-null float64\n",
      "rougher.state.floatbank10_a_level             5290 non-null float64\n",
      "rougher.state.floatbank10_b_air               5290 non-null float64\n",
      "rougher.state.floatbank10_b_level             5290 non-null float64\n",
      "rougher.state.floatbank10_c_air               5290 non-null float64\n",
      "rougher.state.floatbank10_c_level             5290 non-null float64\n",
      "rougher.state.floatbank10_d_air               5290 non-null float64\n",
      "rougher.state.floatbank10_d_level             5290 non-null float64\n",
      "rougher.state.floatbank10_e_air               5290 non-null float64\n",
      "rougher.state.floatbank10_e_level             5290 non-null float64\n",
      "rougher.state.floatbank10_f_air               5290 non-null float64\n",
      "rougher.state.floatbank10_f_level             5290 non-null float64\n",
      "secondary_cleaner.state.floatbank2_a_air      5290 non-null float64\n",
      "secondary_cleaner.state.floatbank2_a_level    5290 non-null float64\n",
      "secondary_cleaner.state.floatbank2_b_air      5290 non-null float64\n",
      "secondary_cleaner.state.floatbank2_b_level    5290 non-null float64\n",
      "secondary_cleaner.state.floatbank3_a_air      5290 non-null float64\n",
      "secondary_cleaner.state.floatbank3_a_level    5290 non-null float64\n",
      "secondary_cleaner.state.floatbank3_b_air      5290 non-null float64\n",
      "secondary_cleaner.state.floatbank3_b_level    5290 non-null float64\n",
      "secondary_cleaner.state.floatbank4_a_air      5290 non-null float64\n",
      "secondary_cleaner.state.floatbank4_a_level    5290 non-null float64\n",
      "secondary_cleaner.state.floatbank4_b_air      5290 non-null float64\n",
      "secondary_cleaner.state.floatbank4_b_level    5290 non-null float64\n",
      "secondary_cleaner.state.floatbank5_a_air      5290 non-null float64\n",
      "secondary_cleaner.state.floatbank5_a_level    5290 non-null float64\n",
      "secondary_cleaner.state.floatbank5_b_air      5290 non-null float64\n",
      "secondary_cleaner.state.floatbank5_b_level    5290 non-null float64\n",
      "secondary_cleaner.state.floatbank6_a_air      5290 non-null float64\n",
      "secondary_cleaner.state.floatbank6_a_level    5290 non-null float64\n",
      "rougher.output.recovery                       5290 non-null float64\n",
      "final.output.recovery                         5290 non-null float64\n",
      "dtypes: datetime64[ns](1), float64(54)\n",
      "memory usage: 2.3 MB\n"
     ]
    }
   ],
   "source": [
    "columns_to_merge = ['rougher.output.recovery', 'date', 'final.output.recovery']\n",
    "df_test = df_test.merge(df_full[columns_to_merge], on='date').dropna(subset=columns_to_merge)\n",
    "df_test.info()"
   ]
  },
  {
   "cell_type": "markdown",
   "metadata": {},
   "source": [
    "### Вывод\n",
    "1. Данные успешно загружены и изучены.\n",
    "2. Из тренировочного датасета исключены строки с отсутствующими целевыми признаками.\n",
    "3. Пропуски в тренировочном и тестовом датасете заполнены ближайшими значениями.\n",
    "4. Столбец `date` переведен в тип DateTime.\n",
    "5. В тестовый датасет добавлены целевые признаки."
   ]
  },
  {
   "cell_type": "markdown",
   "metadata": {},
   "source": [
    "# <a id='step-2'>2. Анализ данных</a>"
   ]
  },
  {
   "cell_type": "markdown",
   "metadata": {},
   "source": [
    "Проанализируем изменение концентраций металлов на разных стадиях очистки."
   ]
  },
  {
   "cell_type": "code",
   "execution_count": 22,
   "metadata": {},
   "outputs": [],
   "source": [
    "metals_list = ['ag', 'au', 'pb', 'sol']\n",
    "stages = [\n",
    "    'rougher.input.feed_', \n",
    "    'rougher.output.concentrate_', \n",
    "    'primary_cleaner.output.concentrate_', \n",
    "    'final.output.concentrate_']"
   ]
  },
  {
   "cell_type": "code",
   "execution_count": 23,
   "metadata": {},
   "outputs": [],
   "source": [
    "def plot_box(df):\n",
    "    \"\"\"\n",
    "    Функция строит ящики с усами для каждого металла на всех этапах очистки\n",
    "    \"\"\"\n",
    "    plt_columns = df.columns[df.columns.str.contains('concentrate_') | df.columns.str.contains('input')]\n",
    "    \n",
    "    for metal in metals_list:\n",
    "        order=[]\n",
    "        for i in range(len(stages)):\n",
    "            order.append(stages[i]+metal)\n",
    "        plt_metal = plt_columns[plt_columns.str.contains(metal)]\n",
    "        df_plot = df[plt_metal]\n",
    "        sns.boxplot(data = df_plot, orient = 'h', order=order)\n",
    "        label = 'Изменение концентрации ' + metal + ' на разных этапах обработки'\n",
    "        plt.title(label = label, fontsize=15)\n",
    "        plt.show()"
   ]
  },
  {
   "cell_type": "code",
   "execution_count": 24,
   "metadata": {
    "scrolled": true
   },
   "outputs": [
    {
     "data": {
      "image/png": "[encoded data removed]",
      "text/plain": [
       "<Figure size 720x360 with 1 Axes>"
      ]
     },
     "metadata": {
      "needs_background": "light"
     },
     "output_type": "display_data"
    },
    {
     "data": {
      "image/png": "[encoded data removed]",
      "text/plain": [
       "<Figure size 720x360 with 1 Axes>"
      ]
     },
     "metadata": {
      "needs_background": "light"
     },
     "output_type": "display_data"
    },
    {
     "data": {
      "image/png": "[encoded data removed]",
      "text/plain": [
       "<Figure size 720x360 with 1 Axes>"
      ]
     },
     "metadata": {
      "needs_background": "light"
     },
     "output_type": "display_data"
    },
    {
     "data": {
      "image/png": "[encoded data removed]",
      "text/plain": [
       "<Figure size 720x360 with 1 Axes>"
      ]
     },
     "metadata": {
      "needs_background": "light"
     },
     "output_type": "display_data"
    }
   ],
   "source": [
    "plt.rcParams['figure.figsize']=(10,5)\n",
    "plot_box(df_full)"
   ]
  },
  {
   "cell_type": "markdown",
   "metadata": {},
   "source": [
    "### Выводы: \n",
    "1. Концентрация золота с каждым этапам увеличивается.\n",
    "2. Концентрация примесей sol с каждым этапом очистки уменьшается.\n",
    "3. Концентрация свинца после флотации и первого этапа очистки увеличивается, но на последнем этапе остается неизменной, возможно это связано с близкими, в некоторой части, свойствами с золотом.\n",
    "4. Концентрация серебра к последнему этапу очистки снижается.\n",
    "5. Заметно довольно большое количество выбросов для каждого из признаков."
   ]
  },
  {
   "cell_type": "markdown",
   "metadata": {},
   "source": [
    "Сравним распределения гранул сырья."
   ]
  },
  {
   "cell_type": "code",
   "execution_count": 25,
   "metadata": {},
   "outputs": [],
   "source": [
    "def conf_int(df, df_2):\n",
    "    \"\"\"\n",
    "    Функция строит ящик с усами и гистограмму распределения, а также считает среднее и доверительный интервал\n",
    "    размеров гранул сырья.\n",
    "    \"\"\"\n",
    "    fig, ax = plt.subplots()\n",
    "    plt.xlim([0,400])\n",
    "    sx = sns.boxplot(x='rougher.input.feed_size',data = df, orient = 'h', color=\"gray\")\n",
    "    plt.show()\n",
    "    plt.xlim([0,400])\n",
    "    sns.boxplot(x='rougher.input.feed_size',data = df_2, orient = 'h')\n",
    "    plt.show()\n",
    "    sns.distplot(df['rougher.input.feed_size'], kde=True, hist_kws={\"alpha\": 0.2, \"color\": \"y\"})\n",
    "    sns.distplot(df_2['rougher.input.feed_size'], kde=True, hist_kws={\"alpha\": 0.2})\n",
    "    plt.show()\n",
    "    for frame in [df, df_2]:\n",
    "        print('Среднее для выборки равно:', frame['rougher.input.feed_size'].mean())\n",
    "        q_025 = frame['rougher.input.feed_size'].quantile(0.025)\n",
    "        q_975 = frame['rougher.input.feed_size'].quantile(0.975)\n",
    "        print('При этом 95% значений находится в интервале: ({:.2f}:{:.2f})'.format(q_025, q_975))\n",
    "    print()"
   ]
  },
  {
   "cell_type": "code",
   "execution_count": 26,
   "metadata": {
    "scrolled": true
   },
   "outputs": [
    {
     "data": {
      "image/png": "[encoded data removed]",
      "text/plain": [
       "<Figure size 720x360 with 1 Axes>"
      ]
     },
     "metadata": {
      "needs_background": "light"
     },
     "output_type": "display_data"
    },
    {
     "data": {
      "image/png": "[encoded data removed]",
      "text/plain": [
       "<Figure size 720x360 with 1 Axes>"
      ]
     },
     "metadata": {
      "needs_background": "light"
     },
     "output_type": "display_data"
    },
    {
     "data": {
      "image/png": "[encoded data removed]",
      "text/plain": [
       "<Figure size 720x360 with 1 Axes>"
      ]
     },
     "metadata": {
      "needs_background": "light"
     },
     "output_type": "display_data"
    },
    {
     "name": "stdout",
     "output_type": "stream",
     "text": [
      "Среднее для выборки равно: 60.23985599255732\n",
      "При этом 95% значений находится в интервале: (40.08:97.49)\n",
      "Среднее для выборки равно: 55.95275402889513\n",
      "При этом 95% значений находится в интервале: (39.72:94.19)\n",
      "\n"
     ]
    }
   ],
   "source": [
    "conf_int(df_train, df_test)"
   ]
  },
  {
   "cell_type": "markdown",
   "metadata": {},
   "source": [
    "### Вывод\n",
    "Значения размеров гранул сырья для тестовой и тренировочной выборок несколько отличаются. Средние значения 5, при этом 95% значений тестовой и тренировочной выборок лежат примерно в одних границах."
   ]
  },
  {
   "cell_type": "markdown",
   "metadata": {},
   "source": [
    "Исследуем суммарную концентрацию веществ на всех этапах очистки."
   ]
  },
  {
   "cell_type": "code",
   "execution_count": 27,
   "metadata": {},
   "outputs": [],
   "source": [
    "def summ_conc(row):\n",
    "    \"\"\"\n",
    "    Функция перебирает значения концентраций металлов на разных этапах формирует колонку\n",
    "    [название этапа]_sum с суммарной концентрацией металлов на этом этапе.\n",
    "    \"\"\"\n",
    "    for stage in stages:\n",
    "        conc = 0\n",
    "        for metal in metals_list:\n",
    "            name = stage + metal\n",
    "            conc += row[name]\n",
    "        name_sum = stage + 'sum'\n",
    "        row[name_sum] = conc\n",
    "    return row"
   ]
  },
  {
   "cell_type": "markdown",
   "metadata": {},
   "source": [
    "Дополним полный датасет значениями общих концентраций."
   ]
  },
  {
   "cell_type": "code",
   "execution_count": 28,
   "metadata": {},
   "outputs": [],
   "source": [
    "df_full = df_full.apply(summ_conc, axis=1)"
   ]
  },
  {
   "cell_type": "code",
   "execution_count": 29,
   "metadata": {},
   "outputs": [],
   "source": [
    "def violin_plot(df):\n",
    "    \"\"\"\n",
    "    Функция строит график изменения суммарной концентрации веществ на всех этапах обработки, \n",
    "    начиная с исходного состояния.\n",
    "    \"\"\"\n",
    "    df_supp = df.loc[:, df.columns.str.contains('sum')]\n",
    "    sns.violinplot(data = df_supp, orient = 'h')\n",
    "    label = 'Изменение суммарной концентрации на разных этапах обработки.'\n",
    "    plt.title(label = label, fontsize=15)\n",
    "    plt.show()"
   ]
  },
  {
   "cell_type": "code",
   "execution_count": 30,
   "metadata": {},
   "outputs": [
    {
     "data": {
      "image/png": "[encoded data removed]",
      "text/plain": [
       "<Figure size 720x360 with 1 Axes>"
      ]
     },
     "metadata": {
      "needs_background": "light"
     },
     "output_type": "display_data"
    }
   ],
   "source": [
    "violin_plot(df_full)"
   ]
  },
  {
   "cell_type": "markdown",
   "metadata": {},
   "source": [
    "На графиках заметно большое количество выбросов в районе концентрации от 0 до 1. Чтобы эти выбросы не влияли на предсказания модели, исключим их."
   ]
  },
  {
   "cell_type": "code",
   "execution_count": 31,
   "metadata": {},
   "outputs": [],
   "source": [
    "df_full_new = df_full[(\n",
    "    df_full['rougher.input.feed_sum'] > 1) & (\n",
    "    df_full['rougher.output.concentrate_sum'] > 1) & (\n",
    "    df_full['primary_cleaner.output.concentrate_sum'] > 1) & (\n",
    "    df_full['final.output.concentrate_sum'] > 1 )]"
   ]
  },
  {
   "cell_type": "code",
   "execution_count": 32,
   "metadata": {},
   "outputs": [
    {
     "name": "stdout",
     "output_type": "stream",
     "text": [
      "После удаления выбросов осталось 82.47% датасета\n"
     ]
    }
   ],
   "source": [
    "print('После удаления выбросов осталось {:.2f}% датасета'.format((len(df_full_new) / len(df_full)) * 100))"
   ]
  },
  {
   "cell_type": "code",
   "execution_count": 33,
   "metadata": {},
   "outputs": [
    {
     "data": {
      "image/png": "[encoded data removed]",
      "text/plain": [
       "<Figure size 720x360 with 1 Axes>"
      ]
     },
     "metadata": {
      "needs_background": "light"
     },
     "output_type": "display_data"
    }
   ],
   "source": [
    "violin_plot(df_full_new)"
   ]
  },
  {
   "cell_type": "markdown",
   "metadata": {},
   "source": [
    "Также исключим строки с выбросами из тестовой и тренировочной выборок."
   ]
  },
  {
   "cell_type": "code",
   "execution_count": 34,
   "metadata": {},
   "outputs": [],
   "source": [
    "def drop_bad(df):\n",
    "    \"\"\"\n",
    "    Функция фильтрует датасет по строкам df_full_new и считает количество отброшеных строк.\n",
    "    \"\"\"\n",
    "    \n",
    "    print('Размер датафрейма до исключения выбросов:', len(df))\n",
    "    df_supp = df_full.drop(df_full_new.index)\n",
    "    df_new = df.drop(df_supp.index, errors = 'ignore')\n",
    "    print('Размер датафрейма после исключения выбросов:', len(df_new))\n",
    "    print('После удаления выбросов осталось {:.2f}% датасета'.format((len(df_new)/ len(df))*100))\n",
    "    return df_new"
   ]
  },
  {
   "cell_type": "code",
   "execution_count": 35,
   "metadata": {
    "scrolled": true
   },
   "outputs": [
    {
     "name": "stdout",
     "output_type": "stream",
     "text": [
      "Размер датафрейма до исключения выбросов: 14149\n",
      "Размер датафрейма после исключения выбросов: 12486\n",
      "После удаления выбросов осталось 88.25% датасета\n"
     ]
    }
   ],
   "source": [
    "df_train_new = drop_bad(df_train)"
   ]
  },
  {
   "cell_type": "code",
   "execution_count": 36,
   "metadata": {
    "scrolled": true
   },
   "outputs": [
    {
     "name": "stdout",
     "output_type": "stream",
     "text": [
      "Размер датафрейма до исключения выбросов: 5290\n",
      "Размер датафрейма после исключения выбросов: 4279\n",
      "После удаления выбросов осталось 80.89% датасета\n"
     ]
    }
   ],
   "source": [
    "df_test_new = drop_bad(df_test)"
   ]
  },
  {
   "cell_type": "markdown",
   "metadata": {},
   "source": [
    "### Вывод\n",
    "\n",
    "1. Исследовано изменение концентрации металлов на разных этапах очистки.\n",
    "2. Исследованы набор значений размеров гранул сырья на тренировочной и тестовой выборках.\n",
    "3. Исследована суммарная концентрация веществ на разных этапах обработки.\n",
    "4. Выявлены значительные выбросы в суммарной концентрации в пределах 1.\n",
    "5. Из полной, тренировочной и тестовых выборок исключены выбросы."
   ]
  },
  {
   "cell_type": "markdown",
   "metadata": {},
   "source": [
    "# <a id='step-3'>3. Модель</a>"
   ]
  },
  {
   "cell_type": "markdown",
   "metadata": {},
   "source": [
    "Напишем функцию рассчета sMAPE."
   ]
  },
  {
   "cell_type": "code",
   "execution_count": 37,
   "metadata": {},
   "outputs": [],
   "source": [
    "def sMAPE(true, pred):\n",
    "    \"\"\"\n",
    "    Функция по предсказаниям и значению целевого признака считает велечину sMAPE\n",
    "    \"\"\"\n",
    "    pred = pd.Series(pred, true.index)\n",
    "    x = (abs(true-pred) / ((abs(true) + abs(pred))/2)).sum()/len(true)\n",
    "    return x*100"
   ]
  },
  {
   "cell_type": "code",
   "execution_count": 38,
   "metadata": {},
   "outputs": [],
   "source": [
    "def final_sMAPE(true, pred):\n",
    "    \"\"\"\n",
    "    Функция считает итоговый sMAPE\n",
    "    \"\"\"\n",
    "    return 0.25*sMAPE(\n",
    "        true['rougher.output.recovery'], pred[:,0]) + 0.75*sMAPE(\n",
    "        true['final.output.recovery'], pred[:,1])"
   ]
  },
  {
   "cell_type": "markdown",
   "metadata": {},
   "source": [
    "Исключим из тренировочной выборки колонки отсутствующие в тестовой выборке."
   ]
  },
  {
   "cell_type": "code",
   "execution_count": 39,
   "metadata": {},
   "outputs": [],
   "source": [
    "columns_to_drop = df_train_new.drop(df_test_new.columns, axis = 1).columns"
   ]
  },
  {
   "cell_type": "code",
   "execution_count": 40,
   "metadata": {},
   "outputs": [],
   "source": [
    "df_train_new = df_train_new.drop(columns_to_drop, axis = 1)"
   ]
  },
  {
   "cell_type": "markdown",
   "metadata": {},
   "source": [
    "Исключим из тестовой и тренировочных выборок колонку `date`."
   ]
  },
  {
   "cell_type": "code",
   "execution_count": 41,
   "metadata": {},
   "outputs": [],
   "source": [
    "df_train_new.drop('date', axis =1, inplace = True)\n",
    "df_test_new.drop('date', axis =1, inplace = True)"
   ]
  },
  {
   "cell_type": "markdown",
   "metadata": {},
   "source": [
    "Выделим признаки и целевой признак."
   ]
  },
  {
   "cell_type": "code",
   "execution_count": 42,
   "metadata": {},
   "outputs": [],
   "source": [
    "def split_df(df):\n",
    "    \"\"\"\n",
    "    Функция разделяет и выделяет из датафрейма признаки и\n",
    "    целевой признак.\n",
    "    \"\"\"\n",
    "    # Разделим признаки и целевой признак.\n",
    "    features = df.drop(['final.output.recovery', 'rougher.output.recovery'], axis=1)\n",
    "    target = df[['rougher.output.recovery', 'final.output.recovery']]\n",
    "     \n",
    "    return features, target"
   ]
  },
  {
   "cell_type": "code",
   "execution_count": 43,
   "metadata": {},
   "outputs": [],
   "source": [
    "features_train, target_train = split_df(df_train_new)\n",
    "features_test, target_test = split_df(df_test_new)"
   ]
  },
  {
   "cell_type": "markdown",
   "metadata": {},
   "source": [
    "Проведем масштабирование признаков."
   ]
  },
  {
   "cell_type": "code",
   "execution_count": 44,
   "metadata": {},
   "outputs": [],
   "source": [
    "scaler = StandardScaler()\n",
    "scaler.fit(features_train[features_train.columns])\n",
    "\n",
    "features_train[features_train.columns] = scaler.transform(features_train[features_train.columns])\n",
    "features_test[features_test.columns] = scaler.transform(features_test[features_test.columns])"
   ]
  },
  {
   "cell_type": "markdown",
   "metadata": {},
   "source": [
    "Создадим метрику для использования в кросс-валидации и поиске глобальных параметров модели. Она будет основываться на ранее созданной функции рассчета final_sMAPE."
   ]
  },
  {
   "cell_type": "code",
   "execution_count": 45,
   "metadata": {},
   "outputs": [],
   "source": [
    "smape_scorer = make_scorer(final_sMAPE, greater_is_better = False)"
   ]
  },
  {
   "cell_type": "markdown",
   "metadata": {},
   "source": [
    "Функция для кросс-валидации:"
   ]
  },
  {
   "cell_type": "code",
   "execution_count": 46,
   "metadata": {},
   "outputs": [],
   "source": [
    "def cr_val_sc(model, features, target):\n",
    "    \"\"\"\n",
    "    Функция проводит кросс-валидацию и считает среднюю метрику.\n",
    "    \"\"\"\n",
    "    score = cross_val_score(\n",
    "        model, \n",
    "        features, \n",
    "        target, \n",
    "        cv=5, \n",
    "        scoring = smape_scorer, \n",
    "        error_score='raise')\n",
    "    \n",
    "    final_score = score.mean()\n",
    "    return final_score"
   ]
  },
  {
   "cell_type": "markdown",
   "metadata": {},
   "source": [
    "Для построения будем использовать следующие модели:"
   ]
  },
  {
   "cell_type": "code",
   "execution_count": 47,
   "metadata": {},
   "outputs": [],
   "source": [
    "model_linear = LinearRegression()\n",
    "\n",
    "model_forest = RandomForestRegressor(\n",
    "    random_state = 12345, \n",
    "    n_jobs=-1)\n",
    "\n",
    "model_tree = DecisionTreeRegressor(\n",
    "    random_state = 12345)"
   ]
  },
  {
   "cell_type": "markdown",
   "metadata": {},
   "source": [
    "Проведем кросс-валидацию линейной модели."
   ]
  },
  {
   "cell_type": "code",
   "execution_count": 48,
   "metadata": {},
   "outputs": [
    {
     "data": {
      "text/plain": [
       "-11.709920058625967"
      ]
     },
     "execution_count": 48,
     "metadata": {},
     "output_type": "execute_result"
    }
   ],
   "source": [
    "cr_val_sc(model_linear, features_train, target_train)"
   ]
  },
  {
   "cell_type": "markdown",
   "metadata": {},
   "source": [
    "Для оставшихся моделей, для подбора гиперпараметров, будем использовать GredSearchCV, в который встроена кросс-валидация."
   ]
  },
  {
   "cell_type": "code",
   "execution_count": 49,
   "metadata": {},
   "outputs": [],
   "source": [
    "params_forest = {\n",
    "    'n_estimators': [50,300,50],\n",
    "    'max_depth':[5,15],\n",
    "    'max_features' : [1,20, 2]\n",
    "}"
   ]
  },
  {
   "cell_type": "code",
   "execution_count": 50,
   "metadata": {},
   "outputs": [],
   "source": [
    "params_tree = {   \n",
    "    'max_depth':[1,20]  \n",
    "}"
   ]
  },
  {
   "cell_type": "markdown",
   "metadata": {},
   "source": [
    "Обучим модель решающего дерева."
   ]
  },
  {
   "cell_type": "code",
   "execution_count": 51,
   "metadata": {},
   "outputs": [
    {
     "data": {
      "text/plain": [
       "GridSearchCV(cv=5, error_score='raise-deprecating',\n",
       "             estimator=DecisionTreeRegressor(criterion='mse', max_depth=None,\n",
       "                                             max_features=None,\n",
       "                                             max_leaf_nodes=None,\n",
       "                                             min_impurity_decrease=0.0,\n",
       "                                             min_impurity_split=None,\n",
       "                                             min_samples_leaf=1,\n",
       "                                             min_samples_split=2,\n",
       "                                             min_weight_fraction_leaf=0.0,\n",
       "                                             presort=False, random_state=12345,\n",
       "                                             splitter='best'),\n",
       "             iid='warn', n_jobs=None, param_grid={'max_depth': [1, 20]},\n",
       "             pre_dispatch='2*n_jobs', refit=True, return_train_score=False,\n",
       "             scoring=make_scorer(final_sMAPE, greater_is_better=False),\n",
       "             verbose=0)"
      ]
     },
     "execution_count": 51,
     "metadata": {},
     "output_type": "execute_result"
    }
   ],
   "source": [
    "CV_tree = GridSearchCV(\n",
    "    model_tree, \n",
    "    param_grid=params_tree, \n",
    "    scoring=smape_scorer, \n",
    "    cv=5)\n",
    "\n",
    "CV_tree.fit(features_train, target_train)"
   ]
  },
  {
   "cell_type": "code",
   "execution_count": 52,
   "metadata": {
    "scrolled": true
   },
   "outputs": [
    {
     "name": "stdout",
     "output_type": "stream",
     "text": [
      "Лучшее значение Итогового sMAPE: -10.965990205097505\n",
      "С параметром {'max_depth': 1}\n"
     ]
    }
   ],
   "source": [
    "print('Лучшее значение Итогового sMAPE:', CV_tree.best_score_)\n",
    "print('С параметром', CV_tree.best_params_)"
   ]
  },
  {
   "cell_type": "markdown",
   "metadata": {},
   "source": [
    "Обучим модель случайного леса."
   ]
  },
  {
   "cell_type": "code",
   "execution_count": 53,
   "metadata": {},
   "outputs": [
    {
     "name": "stdout",
     "output_type": "stream",
     "text": [
      "CPU times: user 11min 4s, sys: 424 ms, total: 11min 4s\n",
      "Wall time: 11min 7s\n"
     ]
    },
    {
     "data": {
      "text/plain": [
       "GridSearchCV(cv=5, error_score='raise-deprecating',\n",
       "             estimator=RandomForestRegressor(bootstrap=True, criterion='mse',\n",
       "                                             max_depth=None,\n",
       "                                             max_features='auto',\n",
       "                                             max_leaf_nodes=None,\n",
       "                                             min_impurity_decrease=0.0,\n",
       "                                             min_impurity_split=None,\n",
       "                                             min_samples_leaf=1,\n",
       "                                             min_samples_split=2,\n",
       "                                             min_weight_fraction_leaf=0.0,\n",
       "                                             n_estimators='warn', n_jobs=-1,\n",
       "                                             oob_score=False,\n",
       "                                             random_state=12345, verbose=0,\n",
       "                                             warm_start=False),\n",
       "             iid='warn', n_jobs=None,\n",
       "             param_grid={'max_depth': [5, 15], 'max_features': [1, 20, 2],\n",
       "                         'n_estimators': [50, 300, 50]},\n",
       "             pre_dispatch='2*n_jobs', refit=True, return_train_score=False,\n",
       "             scoring=make_scorer(final_sMAPE, greater_is_better=False),\n",
       "             verbose=0)"
      ]
     },
     "execution_count": 53,
     "metadata": {},
     "output_type": "execute_result"
    }
   ],
   "source": [
    "%%time\n",
    "CV_forest = GridSearchCV(\n",
    "    model_forest, \n",
    "    param_grid=params_forest, \n",
    "    scoring=smape_scorer, \n",
    "    cv=5)\n",
    "\n",
    "CV_forest.fit(features_train, target_train)"
   ]
  },
  {
   "cell_type": "code",
   "execution_count": 54,
   "metadata": {},
   "outputs": [
    {
     "name": "stdout",
     "output_type": "stream",
     "text": [
      "Лучшее значение Итогового sMAPE: -9.36860081269276\n",
      "С параметром {'max_depth': 5, 'max_features': 20, 'n_estimators': 300}\n"
     ]
    }
   ],
   "source": [
    "print('Лучшее значение Итогового sMAPE:',CV_forest.best_score_)\n",
    "print('С параметром', CV_forest.best_params_)"
   ]
  },
  {
   "cell_type": "markdown",
   "metadata": {},
   "source": [
    "### Вывод\n",
    "Судя по значению итогового sMAPE, лучшие предсказания даёт модель случайного леса, её и используем при построении финальной модели."
   ]
  },
  {
   "cell_type": "markdown",
   "metadata": {},
   "source": [
    "Обучим наилучшую модель с лучшими гиперпараметрами и посчитаем итоговый sMAPE на тестовой выборке."
   ]
  },
  {
   "cell_type": "code",
   "execution_count": 55,
   "metadata": {},
   "outputs": [
    {
     "data": {
      "text/plain": [
       "RandomForestRegressor(bootstrap=True, criterion='mse', max_depth=5,\n",
       "                      max_features=20, max_leaf_nodes=None,\n",
       "                      min_impurity_decrease=0.0, min_impurity_split=None,\n",
       "                      min_samples_leaf=1, min_samples_split=2,\n",
       "                      min_weight_fraction_leaf=0.0, n_estimators=300, n_jobs=-1,\n",
       "                      oob_score=False, random_state=12345, verbose=0,\n",
       "                      warm_start=False)"
      ]
     },
     "execution_count": 55,
     "metadata": {},
     "output_type": "execute_result"
    }
   ],
   "source": [
    "model_final = RandomForestRegressor(\n",
    "    random_state = 12345, \n",
    "    n_estimators=300, \n",
    "    max_depth=5, \n",
    "    max_features=20, \n",
    "    n_jobs=-1)\n",
    "\n",
    "model_final.fit(features_train, target_train)"
   ]
  },
  {
   "cell_type": "code",
   "execution_count": 56,
   "metadata": {},
   "outputs": [
    {
     "name": "stdout",
     "output_type": "stream",
     "text": [
      "Лучшая модель показала итоговый sMAPE на тестовой выборке: 8.698748288719123\n"
     ]
    }
   ],
   "source": [
    "predict = model_final.predict(features_test)\n",
    "print('Лучшая модель показала итоговый sMAPE на тестовой выборке:', final_sMAPE(target_test, predict))"
   ]
  },
  {
   "cell_type": "markdown",
   "metadata": {},
   "source": [
    "Для проверки адекватности модели, сравним ее с результатами работы DummyRegressor."
   ]
  },
  {
   "cell_type": "code",
   "execution_count": 57,
   "metadata": {},
   "outputs": [
    {
     "data": {
      "text/plain": [
       "DummyRegressor(constant=None, quantile=None, strategy='mean')"
      ]
     },
     "execution_count": 57,
     "metadata": {},
     "output_type": "execute_result"
    }
   ],
   "source": [
    "model_dummy = DummyRegressor(strategy=\"mean\")\n",
    "model_dummy.fit(features_train, target_train)"
   ]
  },
  {
   "cell_type": "code",
   "execution_count": 58,
   "metadata": {},
   "outputs": [
    {
     "name": "stdout",
     "output_type": "stream",
     "text": [
      "Dummy модель показала итоговый sMAPE на тестовой выборке: 9.659867969858126\n"
     ]
    }
   ],
   "source": [
    "predict_dummy = model_dummy.predict(features_test)\n",
    "print('Dummy модель показала итоговый sMAPE на тестовой выборке:', final_sMAPE(target_test, predict_dummy))"
   ]
  },
  {
   "cell_type": "markdown",
   "metadata": {},
   "source": [
    "Результаты Dummy-модели несколько хуже полученных моделью случайного леса. Считаем, что лучшая модель адекватна."
   ]
  },
  {
   "cell_type": "markdown",
   "metadata": {},
   "source": [
    "### Вывод\n",
    "\n",
    "1. Была написана функция для расчета sMAPE и итогового sMAPE.\n",
    "2. Проведено выделение признаков и целевого признака.\n",
    "3. Проведено масштабирование признаков.\n",
    "4. Исключены признаки не влияющие на качесто моеделей, или те, которые отсутствуют в тестовой выборке.\n",
    "5. Обучены модели линейной регрессии, регрессионного дерева решений, бэггинга дерева решений и регрессионного случайного леса.\n",
    "6. Выбрана лучшая модель с гиперпараметрами, обеспечивающими минимальный финальный sMAPE."
   ]
  },
  {
   "cell_type": "markdown",
   "metadata": {},
   "source": [
    "## <a id='final-conclusion'>Общий вывод</a>\n",
    "\n",
    "1. Проведена предобработка данных трёх датасетов.\n",
    "2. Из выборок исключены выбросы, которые могли бы повлиять на качество построенных моделей.\n",
    "3. Исследованы стадии очистки сырья.\n",
    "4. Написаны функции рассчета требуемой метрики - итоговой sMAPE.\n",
    "5. Построены три модели машинного обучения - линейной регрессии, случайного леса и дерева решений.\n",
    "6. Проведена кросс-валидация и выбор гиперпараметров моделей.\n",
    "7. Выбрана наилучшая модель с подходящими гиперпараметрами - регрессионный случайный лес с параметрами {'max_depth': 5, 'max_features': 20, 'n_estimators': 300}. Итоговый sMAPE при кросс-валидации равен 9.36.\n",
    "8. Выбранная модель проверена на тестовой выборке. Значение итоговой sMAPE близко к значениям полученным при кросс-валлидации - 8.7.\n",
    "9. Была обучена Dummy модель для проверки на адекватность. Предсказания дамми модели оказались хуже предсказаний модели случайного леса (9.6)."
   ]
  },
  {
   "cell_type": "markdown",
   "metadata": {},
   "source": [
    "<a href='#content'>Назад к содержанию.</a>"
   ]
  }
 ],
 "metadata": {
  "kernelspec": {
   "display_name": "Python 3",
   "language": "python",
   "name": "python3"
  },
  "language_info": {
   "codemirror_mode": {
    "name": "ipython",
    "version": 3
   },
   "file_extension": ".py",
   "mimetype": "text/x-python",
   "name": "python",
   "nbconvert_exporter": "python",
   "pygments_lexer": "ipython3",
   "version": "3.8.5"
  },
  "toc": {
   "base_numbering": 1,
   "nav_menu": {},
   "number_sections": true,
   "sideBar": true,
   "skip_h1_title": false,
   "title_cell": "Table of Contents",
   "title_sidebar": "Contents",
   "toc_cell": false,
   "toc_position": {},
   "toc_section_display": true,
   "toc_window_display": false
  }
 },
 "nbformat": 4,
 "nbformat_minor": 2
}
