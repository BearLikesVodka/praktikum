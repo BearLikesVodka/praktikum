{
 "cells": [
  {
   "cell_type": "markdown",
   "metadata": {},
   "source": [
    "# Определение нефтяных месторождений\n",
    "\n",
    "## Описание проекта\n",
    "\n",
    "Допустим, вы работаете в нефтедобывающей компании. Нужно решить, где бурить новую скважину.\n",
    "\n",
    "Предоставлены пробы нефти в трёх регионах: в каждом 10 000 месторождений, где измерили качество нефти и объём её запасов. Постройте модель машинного обучения, которая поможет определить регион, где добыча принесёт наибольшую прибыль. Проанализируйте возможную прибыль и риски техникой *Bootstrap.*\n",
    "\n",
    "Шаги для выбора локации:\n",
    "\n",
    "- В избранном регионе ищут месторождения, для каждого определяют значения признаков;\n",
    "- Строят модель и оценивают объём запасов;\n",
    "- Выбирают месторождения с самым высокими оценками значений. Количество месторождений зависит от бюджета компании и стоимости разработки одной скважины;\n",
    "- Прибыль равна суммарной прибыли отобранных месторождений."
   ]
  },
  {
   "cell_type": "markdown",
   "metadata": {},
   "source": [
    "## <a id='content'>Содержание проекта</a>\n",
    "1. <a href='#step-1'>Загрузка и подготовка данных</a>\n",
    "2. <a href='#step-2'>Обучение и проверка модели</a>\n",
    "3. <a href='#step-3'>Подготовка к расчёту прибыли</a>\n",
    "4. <a href='#step-4'>Расчёт прибыли и рисков</a>"
   ]
  },
  {
   "cell_type": "markdown",
   "metadata": {},
   "source": [
    "# 1. <a id='step-1'>Загрузка и подготовка данных</a>"
   ]
  },
  {
   "cell_type": "code",
   "execution_count": 1,
   "metadata": {},
   "outputs": [
    {
     "name": "stdout",
     "output_type": "stream",
     "text": [
      "<class 'pandas.core.frame.DataFrame'>\n",
      "RangeIndex: 100000 entries, 0 to 99999\n",
      "Data columns (total 5 columns):\n",
      "id         100000 non-null object\n",
      "f0         100000 non-null float64\n",
      "f1         100000 non-null float64\n",
      "f2         100000 non-null float64\n",
      "product    100000 non-null float64\n",
      "dtypes: float64(4), object(1)\n",
      "memory usage: 3.8+ MB\n",
      "None\n",
      "<class 'pandas.core.frame.DataFrame'>\n",
      "RangeIndex: 100000 entries, 0 to 99999\n",
      "Data columns (total 5 columns):\n",
      "id         100000 non-null object\n",
      "f0         100000 non-null float64\n",
      "f1         100000 non-null float64\n",
      "f2         100000 non-null float64\n",
      "product    100000 non-null float64\n",
      "dtypes: float64(4), object(1)\n",
      "memory usage: 3.8+ MB\n",
      "None\n",
      "<class 'pandas.core.frame.DataFrame'>\n",
      "RangeIndex: 100000 entries, 0 to 99999\n",
      "Data columns (total 5 columns):\n",
      "id         100000 non-null object\n",
      "f0         100000 non-null float64\n",
      "f1         100000 non-null float64\n",
      "f2         100000 non-null float64\n",
      "product    100000 non-null float64\n",
      "dtypes: float64(4), object(1)\n",
      "memory usage: 3.8+ MB\n",
      "None\n"
     ]
    }
   ],
   "source": [
    "# Подключим нужные нам модули.\n",
    "import pandas as pd\n",
    "import numpy as np\n",
    "from math import sqrt\n",
    "from scipy.stats import percentileofscore\n",
    "from sklearn.linear_model import LinearRegression\n",
    "from sklearn.model_selection import train_test_split\n",
    "from sklearn.metrics import mean_squared_error\n",
    "\n",
    "# Создадим датафреймы из файлов для каждого региона и выведем информацию о них, и первые 5 строк.\n",
    "geo_data_0 = pd.read_csv('/datasets/geo_data_0.csv')\n",
    "geo_data_1 = pd.read_csv('/datasets/geo_data_1.csv')\n",
    "geo_data_2 = pd.read_csv('/datasets/geo_data_2.csv')\n",
    "print(geo_data_0.info())\n",
    "print(geo_data_1.info())\n",
    "print(geo_data_2.info())"
   ]
  },
  {
   "cell_type": "code",
   "execution_count": 2,
   "metadata": {
    "scrolled": true
   },
   "outputs": [
    {
     "data": {
      "text/html": [
       "<div>\n",
       "<style scoped>\n",
       "    .dataframe tbody tr th:only-of-type {\n",
       "        vertical-align: middle;\n",
       "    }\n",
       "\n",
       "    .dataframe tbody tr th {\n",
       "        vertical-align: top;\n",
       "    }\n",
       "\n",
       "    .dataframe thead th {\n",
       "        text-align: right;\n",
       "    }\n",
       "</style>\n",
       "<table border=\"1\" class=\"dataframe\">\n",
       "  <thead>\n",
       "    <tr style=\"text-align: right;\">\n",
       "      <th></th>\n",
       "      <th>id</th>\n",
       "      <th>f0</th>\n",
       "      <th>f1</th>\n",
       "      <th>f2</th>\n",
       "      <th>product</th>\n",
       "    </tr>\n",
       "  </thead>\n",
       "  <tbody>\n",
       "    <tr>\n",
       "      <td>0</td>\n",
       "      <td>txEyH</td>\n",
       "      <td>0.705745</td>\n",
       "      <td>-0.497823</td>\n",
       "      <td>1.221170</td>\n",
       "      <td>105.280062</td>\n",
       "    </tr>\n",
       "    <tr>\n",
       "      <td>1</td>\n",
       "      <td>2acmU</td>\n",
       "      <td>1.334711</td>\n",
       "      <td>-0.340164</td>\n",
       "      <td>4.365080</td>\n",
       "      <td>73.037750</td>\n",
       "    </tr>\n",
       "    <tr>\n",
       "      <td>2</td>\n",
       "      <td>409Wp</td>\n",
       "      <td>1.022732</td>\n",
       "      <td>0.151990</td>\n",
       "      <td>1.419926</td>\n",
       "      <td>85.265647</td>\n",
       "    </tr>\n",
       "    <tr>\n",
       "      <td>3</td>\n",
       "      <td>iJLyR</td>\n",
       "      <td>-0.032172</td>\n",
       "      <td>0.139033</td>\n",
       "      <td>2.978566</td>\n",
       "      <td>168.620776</td>\n",
       "    </tr>\n",
       "    <tr>\n",
       "      <td>4</td>\n",
       "      <td>Xdl7t</td>\n",
       "      <td>1.988431</td>\n",
       "      <td>0.155413</td>\n",
       "      <td>4.751769</td>\n",
       "      <td>154.036647</td>\n",
       "    </tr>\n",
       "  </tbody>\n",
       "</table>\n",
       "</div>"
      ],
      "text/plain": [
       "      id        f0        f1        f2     product\n",
       "0  txEyH  0.705745 -0.497823  1.221170  105.280062\n",
       "1  2acmU  1.334711 -0.340164  4.365080   73.037750\n",
       "2  409Wp  1.022732  0.151990  1.419926   85.265647\n",
       "3  iJLyR -0.032172  0.139033  2.978566  168.620776\n",
       "4  Xdl7t  1.988431  0.155413  4.751769  154.036647"
      ]
     },
     "execution_count": 2,
     "metadata": {},
     "output_type": "execute_result"
    }
   ],
   "source": [
    "geo_data_0.head()"
   ]
  },
  {
   "cell_type": "code",
   "execution_count": 3,
   "metadata": {
    "scrolled": true
   },
   "outputs": [
    {
     "data": {
      "text/html": [
       "<div>\n",
       "<style scoped>\n",
       "    .dataframe tbody tr th:only-of-type {\n",
       "        vertical-align: middle;\n",
       "    }\n",
       "\n",
       "    .dataframe tbody tr th {\n",
       "        vertical-align: top;\n",
       "    }\n",
       "\n",
       "    .dataframe thead th {\n",
       "        text-align: right;\n",
       "    }\n",
       "</style>\n",
       "<table border=\"1\" class=\"dataframe\">\n",
       "  <thead>\n",
       "    <tr style=\"text-align: right;\">\n",
       "      <th></th>\n",
       "      <th>id</th>\n",
       "      <th>f0</th>\n",
       "      <th>f1</th>\n",
       "      <th>f2</th>\n",
       "      <th>product</th>\n",
       "    </tr>\n",
       "  </thead>\n",
       "  <tbody>\n",
       "    <tr>\n",
       "      <td>0</td>\n",
       "      <td>kBEdx</td>\n",
       "      <td>-15.001348</td>\n",
       "      <td>-8.276000</td>\n",
       "      <td>-0.005876</td>\n",
       "      <td>3.179103</td>\n",
       "    </tr>\n",
       "    <tr>\n",
       "      <td>1</td>\n",
       "      <td>62mP7</td>\n",
       "      <td>14.272088</td>\n",
       "      <td>-3.475083</td>\n",
       "      <td>0.999183</td>\n",
       "      <td>26.953261</td>\n",
       "    </tr>\n",
       "    <tr>\n",
       "      <td>2</td>\n",
       "      <td>vyE1P</td>\n",
       "      <td>6.263187</td>\n",
       "      <td>-5.948386</td>\n",
       "      <td>5.001160</td>\n",
       "      <td>134.766305</td>\n",
       "    </tr>\n",
       "    <tr>\n",
       "      <td>3</td>\n",
       "      <td>KcrkZ</td>\n",
       "      <td>-13.081196</td>\n",
       "      <td>-11.506057</td>\n",
       "      <td>4.999415</td>\n",
       "      <td>137.945408</td>\n",
       "    </tr>\n",
       "    <tr>\n",
       "      <td>4</td>\n",
       "      <td>AHL4O</td>\n",
       "      <td>12.702195</td>\n",
       "      <td>-8.147433</td>\n",
       "      <td>5.004363</td>\n",
       "      <td>134.766305</td>\n",
       "    </tr>\n",
       "  </tbody>\n",
       "</table>\n",
       "</div>"
      ],
      "text/plain": [
       "      id         f0         f1        f2     product\n",
       "0  kBEdx -15.001348  -8.276000 -0.005876    3.179103\n",
       "1  62mP7  14.272088  -3.475083  0.999183   26.953261\n",
       "2  vyE1P   6.263187  -5.948386  5.001160  134.766305\n",
       "3  KcrkZ -13.081196 -11.506057  4.999415  137.945408\n",
       "4  AHL4O  12.702195  -8.147433  5.004363  134.766305"
      ]
     },
     "execution_count": 3,
     "metadata": {},
     "output_type": "execute_result"
    }
   ],
   "source": [
    "geo_data_1.head()"
   ]
  },
  {
   "cell_type": "code",
   "execution_count": 4,
   "metadata": {
    "scrolled": true
   },
   "outputs": [
    {
     "data": {
      "text/html": [
       "<div>\n",
       "<style scoped>\n",
       "    .dataframe tbody tr th:only-of-type {\n",
       "        vertical-align: middle;\n",
       "    }\n",
       "\n",
       "    .dataframe tbody tr th {\n",
       "        vertical-align: top;\n",
       "    }\n",
       "\n",
       "    .dataframe thead th {\n",
       "        text-align: right;\n",
       "    }\n",
       "</style>\n",
       "<table border=\"1\" class=\"dataframe\">\n",
       "  <thead>\n",
       "    <tr style=\"text-align: right;\">\n",
       "      <th></th>\n",
       "      <th>id</th>\n",
       "      <th>f0</th>\n",
       "      <th>f1</th>\n",
       "      <th>f2</th>\n",
       "      <th>product</th>\n",
       "    </tr>\n",
       "  </thead>\n",
       "  <tbody>\n",
       "    <tr>\n",
       "      <td>0</td>\n",
       "      <td>fwXo0</td>\n",
       "      <td>-1.146987</td>\n",
       "      <td>0.963328</td>\n",
       "      <td>-0.828965</td>\n",
       "      <td>27.758673</td>\n",
       "    </tr>\n",
       "    <tr>\n",
       "      <td>1</td>\n",
       "      <td>WJtFt</td>\n",
       "      <td>0.262778</td>\n",
       "      <td>0.269839</td>\n",
       "      <td>-2.530187</td>\n",
       "      <td>56.069697</td>\n",
       "    </tr>\n",
       "    <tr>\n",
       "      <td>2</td>\n",
       "      <td>ovLUW</td>\n",
       "      <td>0.194587</td>\n",
       "      <td>0.289035</td>\n",
       "      <td>-5.586433</td>\n",
       "      <td>62.871910</td>\n",
       "    </tr>\n",
       "    <tr>\n",
       "      <td>3</td>\n",
       "      <td>q6cA6</td>\n",
       "      <td>2.236060</td>\n",
       "      <td>-0.553760</td>\n",
       "      <td>0.930038</td>\n",
       "      <td>114.572842</td>\n",
       "    </tr>\n",
       "    <tr>\n",
       "      <td>4</td>\n",
       "      <td>WPMUX</td>\n",
       "      <td>-0.515993</td>\n",
       "      <td>1.716266</td>\n",
       "      <td>5.899011</td>\n",
       "      <td>149.600746</td>\n",
       "    </tr>\n",
       "  </tbody>\n",
       "</table>\n",
       "</div>"
      ],
      "text/plain": [
       "      id        f0        f1        f2     product\n",
       "0  fwXo0 -1.146987  0.963328 -0.828965   27.758673\n",
       "1  WJtFt  0.262778  0.269839 -2.530187   56.069697\n",
       "2  ovLUW  0.194587  0.289035 -5.586433   62.871910\n",
       "3  q6cA6  2.236060 -0.553760  0.930038  114.572842\n",
       "4  WPMUX -0.515993  1.716266  5.899011  149.600746"
      ]
     },
     "execution_count": 4,
     "metadata": {},
     "output_type": "execute_result"
    }
   ],
   "source": [
    "geo_data_2.head()"
   ]
  },
  {
   "cell_type": "markdown",
   "metadata": {},
   "source": [
    "Пропусков и ошибок в данных не обнаружено, можем сразу перейти к обучению модели."
   ]
  },
  {
   "cell_type": "markdown",
   "metadata": {},
   "source": [
    "# 2. <a id='step-2'>Обучение и проверка модели</a>"
   ]
  },
  {
   "cell_type": "markdown",
   "metadata": {},
   "source": [
    "Обучим и проверим модели отдельно для каждого региона. Для обучения будем использовать линейную регрессию, после чего проверим модель с помощью валидационной выборки. Модели для регионов будем строить по порядку."
   ]
  },
  {
   "cell_type": "code",
   "execution_count": 5,
   "metadata": {},
   "outputs": [],
   "source": [
    "# Создадим random_state.\n",
    "state = np.random.RandomState(12345)"
   ]
  },
  {
   "cell_type": "code",
   "execution_count": 6,
   "metadata": {},
   "outputs": [
    {
     "name": "stdout",
     "output_type": "stream",
     "text": [
      "Средний запас предсказанного сырья (в единицах продукта) в 'geo_data_0': 92.59\n",
      "RMSE модели в 'geo_data_0': 37.58\n",
      "\n"
     ]
    }
   ],
   "source": [
    "# Укажем признаки и целевой признак.\n",
    "features_0 = geo_data_0.drop(['id', 'product'], axis=1)\n",
    "target_0 = geo_data_0['product']\n",
    "\n",
    "# Разбиваем на обучающую и валидационную выборки.\n",
    "features_train_0, features_valid_0, target_train_0, target_valid_0 = train_test_split(\n",
    "    features_0, target_0, test_size=0.25, random_state=state)\n",
    "\n",
    "# Обучим модель, после чего выведем предсказания для валидационной выборки.\n",
    "model_0 = LinearRegression()\n",
    "model_0.fit(features_train_0, target_train_0)\n",
    "predictions_0 = model_0.predict(features_valid_0)\n",
    "\n",
    "# Рассчитаем средний запас сырья и RMSE модели, чтобы узнать, насколько велико отклонение.\n",
    "print(f\"Средний запас предсказанного сырья (в единицах продукта) в 'geo_data_0': {predictions_0.mean():.2f}\")\n",
    "print(f\"RMSE модели в 'geo_data_0': {sqrt(mean_squared_error(predictions_0, target_valid_0)):.2f}\\n\")"
   ]
  },
  {
   "cell_type": "markdown",
   "metadata": {},
   "source": [
    "И повторяем те же шаги для других регионов."
   ]
  },
  {
   "cell_type": "code",
   "execution_count": 7,
   "metadata": {},
   "outputs": [
    {
     "name": "stdout",
     "output_type": "stream",
     "text": [
      "Средний запас предсказанного сырья (в единицах продукта) в 'geo_data_1': 68.77\n",
      "RMSE модели в 'geo_data_1': 0.89\n",
      "\n"
     ]
    }
   ],
   "source": [
    "features_1 = geo_data_1.drop(['id', 'product'], axis=1)\n",
    "target_1 = geo_data_1['product']\n",
    "features_train_1, features_valid_1, target_train_1, target_valid_1 = train_test_split(\n",
    "    features_1, target_1, test_size=0.25, random_state=state)\n",
    "\n",
    "model_1 = LinearRegression()\n",
    "model_1.fit(features_train_1, target_train_1)\n",
    "predictions_1 = model_1.predict(features_valid_1)\n",
    "print(f\"Средний запас предсказанного сырья (в единицах продукта) в 'geo_data_1': {predictions_1.mean():.2f}\")\n",
    "print(f\"RMSE модели в 'geo_data_1': {sqrt(mean_squared_error(predictions_1, target_valid_1)):.2f}\\n\")"
   ]
  },
  {
   "cell_type": "code",
   "execution_count": 8,
   "metadata": {
    "scrolled": true
   },
   "outputs": [
    {
     "name": "stdout",
     "output_type": "stream",
     "text": [
      "Средний запас предсказанного сырья (в единицах продукта) в 'geo_data_2': 95.09\n",
      "RMSE модели в 'geo_data_2': 39.96\n",
      "\n"
     ]
    }
   ],
   "source": [
    "features_2 = geo_data_2.drop(['id', 'product'], axis=1)\n",
    "target_2 = geo_data_2['product']\n",
    "features_train_2, features_valid_2, target_train_2, target_valid_2 = train_test_split(\n",
    "    features_2, target_2, test_size=0.25, random_state=state)\n",
    "\n",
    "model_2 = LinearRegression()\n",
    "model_2.fit(features_train_2, target_train_2)\n",
    "predictions_2 = model_2.predict(features_valid_2)\n",
    "print(f\"Средний запас предсказанного сырья (в единицах продукта) в 'geo_data_2': {predictions_2.mean():.2f}\")\n",
    "print(f\"RMSE модели в 'geo_data_2': {sqrt(mean_squared_error(predictions_2, target_valid_2)):.2f}\\n\")"
   ]
  },
  {
   "cell_type": "markdown",
   "metadata": {},
   "source": [
    "Как можно увидеть, во втором регионе хоть средний запаз и меньше, чем в первом и третьем регионах, но и RMSE тоже гораздо меньше, значит, качество предсказания модели выше."
   ]
  },
  {
   "cell_type": "markdown",
   "metadata": {},
   "source": [
    "# 3. <a id='step-3'>Подготовка к расчёту прибыли</a>"
   ]
  },
  {
   "cell_type": "markdown",
   "metadata": {},
   "source": [
    "Для начала, сохраним данные, нужные нам для расчёта прибыли. Наш бюджет — 10 млрд. рублей, и цена за единицу продукта (1000 баррелей) 450 тысяч рублей. Всего мы будем разведывать 200 точек с наибольшим количеством продукта."
   ]
  },
  {
   "cell_type": "code",
   "execution_count": 9,
   "metadata": {},
   "outputs": [],
   "source": [
    "BUDGET = 10000000000\n",
    "PRICE_PER_PRODUCT = 450000\n",
    "POINTS_AMOUNT = 200"
   ]
  },
  {
   "cell_type": "markdown",
   "metadata": {},
   "source": [
    "Найдём средние данные по количеству продукта по регионам и сравним с предсказанным значением."
   ]
  },
  {
   "cell_type": "code",
   "execution_count": 10,
   "metadata": {
    "scrolled": true
   },
   "outputs": [
    {
     "name": "stdout",
     "output_type": "stream",
     "text": [
      "По региону 1 — предсказанное значение: 92.50 и реальное: 92.59.\n",
      "По региону 2 — предсказанное значение: 68.83 и реальное: 68.77.\n",
      "По региону 3 — предсказанное значение: 95.00 и реальное: 95.09.\n"
     ]
    }
   ],
   "source": [
    "print(f\"По региону 1 — предсказанное значение: {geo_data_0['product'].mean():.2f} и реальное: {predictions_0.mean():.2f}.\")\n",
    "print(f\"По региону 2 — предсказанное значение: {geo_data_1['product'].mean():.2f} и реальное: {predictions_1.mean():.2f}.\")\n",
    "print(f\"По региону 3 — предсказанное значение: {geo_data_2['product'].mean():.2f} и реальное: {predictions_2.mean():.2f}.\")"
   ]
  },
  {
   "cell_type": "markdown",
   "metadata": {},
   "source": [
    "Как видно, предсказанные значения не сильно отличаются от реальных."
   ]
  },
  {
   "cell_type": "markdown",
   "metadata": {},
   "source": [
    "Расчитаем минимум продукта в одной точке для безубыточной добычи."
   ]
  },
  {
   "cell_type": "code",
   "execution_count": 11,
   "metadata": {
    "scrolled": false
   },
   "outputs": [
    {
     "name": "stdout",
     "output_type": "stream",
     "text": [
      "111.11\n"
     ]
    }
   ],
   "source": [
    "print(f\"{BUDGET / PRICE_PER_PRODUCT / POINTS_AMOUNT:.2f}\")"
   ]
  },
  {
   "cell_type": "markdown",
   "metadata": {},
   "source": [
    "Как можно заметить, средние значения по регионам получаются меньше, чем рассчитанное минимальное количество продукта в точке. Поэтому мы стараемся найти точки, где количество продукта будет превышать это значение."
   ]
  },
  {
   "cell_type": "markdown",
   "metadata": {},
   "source": [
    "Напишем функцию для подсчёта прибыли от региона."
   ]
  },
  {
   "cell_type": "code",
   "execution_count": 12,
   "metadata": {},
   "outputs": [],
   "source": [
    "def count_profit(target, predictions, count):  \n",
    "    '''\n",
    "    Считает прибыль, умножая сумму из selected на \n",
    "    price_per_product и вычитая бюджет. selected \n",
    "    берётся из target, соответствующих индексам predictions_sorted.\n",
    "    '''\n",
    "    predictions = pd.Series(predictions)\n",
    "    target = pd.Series(target)\n",
    "    \n",
    "    predictions_sorted = predictions.sort_values(ascending=False)\n",
    "    selected = target[predictions_sorted.index][:count]\n",
    "    \n",
    "    return PRICE_PER_PRODUCT * selected.sum() - BUDGET"
   ]
  },
  {
   "cell_type": "markdown",
   "metadata": {},
   "source": [
    "Теперь, приступим к расчёту прибыли и рисков."
   ]
  },
  {
   "cell_type": "markdown",
   "metadata": {},
   "source": [
    "# 4. <a id='step-4'>Расчёт прибыли и рисков</a>"
   ]
  },
  {
   "cell_type": "markdown",
   "metadata": {},
   "source": [
    "Воспользуемся методом Bootstrap для создания распределения величин из подвыборок. Возьмём тысячу подвыборок."
   ]
  },
  {
   "cell_type": "code",
   "execution_count": 13,
   "metadata": {},
   "outputs": [],
   "source": [
    "# Создаём пустой список, куда мы будем записывать данные с бутстрепа.\n",
    "values_0 = []\n",
    "\n",
    "target_valid_0 = pd.Series(target_valid_0).reset_index(drop=True)\n",
    "predictions_0 = pd.Series(predictions_0)\n",
    "\n",
    "# Применим бутстреп.\n",
    "for i in range(1000):\n",
    "    # Берём 500 случайных значений и находим соответствующие по индексу значения в другой выборке.\n",
    "    target_subsample_0 = target_valid_0.sample(n=500, replace=True, random_state=state) \n",
    "    pred_subsample_0 = predictions_0[target_subsample_0.index]\n",
    "    \n",
    "    # Применяем функцию расчёта прибыли.\n",
    "    values_0.append(count_profit(target_subsample_0, pred_subsample_0, POINTS_AMOUNT))\n",
    "\n",
    "# Переводим values_0 в Series.\n",
    "values_0 = pd.Series(values_0)"
   ]
  },
  {
   "cell_type": "code",
   "execution_count": 14,
   "metadata": {
    "scrolled": true
   },
   "outputs": [
    {
     "name": "stdout",
     "output_type": "stream",
     "text": [
      "Регион 1 с вероятностью 95% заработает от -76187814 рублей до 957846532 рублей (ср: 423897238 рублей).\n",
      "Убыток будет в 4.8% случаев.\n"
     ]
    }
   ],
   "source": [
    "# Находим нижний и верхний квантили для 95-процентного доверительного интервала.\n",
    "lower_0 = values_0.quantile(0.025)\n",
    "upper_0 = values_0.quantile(0.975)\n",
    "\n",
    "# Находим среднее по values_0.\n",
    "mean_0 = values_0.mean()\n",
    "\n",
    "# И вероятность убытков.\n",
    "prob_of_loss_0 = percentileofscore(values_0, 0)\n",
    "print(f\"Регион 1 с вероятностью 95% заработает от {lower_0:.0f} рублей до {upper_0:.0f} рублей (ср: {mean_0:.0f} рублей).\")\n",
    "print(f\"Убыток будет в {prob_of_loss_0:.1f}% случаев.\")"
   ]
  },
  {
   "cell_type": "markdown",
   "metadata": {},
   "source": [
    "Повторяем те же шаги для остальных регионов."
   ]
  },
  {
   "cell_type": "code",
   "execution_count": 15,
   "metadata": {},
   "outputs": [],
   "source": [
    "values_1 = []\n",
    "target_valid_1 = pd.Series(target_valid_1).reset_index(drop=True)\n",
    "predictions_1 = pd.Series(predictions_1)\n",
    "\n",
    "for i in range(1000):\n",
    "    target_subsample_1 = target_valid_1.sample(n=500, replace=True, random_state=state)\n",
    "    pred_subsample_1 = predictions_1[target_subsample_1.index]\n",
    "    \n",
    "    values_1.append(count_profit(target_subsample_1, pred_subsample_1, POINTS_AMOUNT))\n",
    "       \n",
    "values_1 = pd.Series(values_1)"
   ]
  },
  {
   "cell_type": "code",
   "execution_count": 16,
   "metadata": {},
   "outputs": [
    {
     "name": "stdout",
     "output_type": "stream",
     "text": [
      "Регион 1 с вероятностью 95% заработает от 108066895 рублей до 928574439 рублей (ср: 513256699 рублей).\n",
      "Убыток будет в 0.6% случаев.\n"
     ]
    }
   ],
   "source": [
    "lower_1 = values_1.quantile(0.025)\n",
    "upper_1 = values_1.quantile(0.975)\n",
    "mean_1 = values_1.mean()\n",
    "prob_of_loss_1 = percentileofscore(values_1, 0)\n",
    "print(f\"Регион 1 с вероятностью 95% заработает от {lower_1:.0f} рублей до {upper_1:.0f} рублей (ср: {mean_1:.0f} рублей).\")\n",
    "print(f\"Убыток будет в {prob_of_loss_1:.1f}% случаев.\")"
   ]
  },
  {
   "cell_type": "code",
   "execution_count": 17,
   "metadata": {},
   "outputs": [],
   "source": [
    "values_2 = []\n",
    "target_valid_2 = pd.Series(target_valid_2).reset_index(drop=True)\n",
    "predictions_2 = pd.Series(predictions_2)\n",
    "                          \n",
    "for i in range(1000):                      \n",
    "    target_subsample_2 = target_valid_2.sample(n=500, replace=True, random_state=state)\n",
    "    pred_subsample_2 = predictions_2[target_subsample_2.index]\n",
    "    \n",
    "    values_2.append(count_profit(target_subsample_2, pred_subsample_2, POINTS_AMOUNT))\n",
    "       \n",
    "values_2 = pd.Series(values_2)"
   ]
  },
  {
   "cell_type": "code",
   "execution_count": 18,
   "metadata": {
    "scrolled": true
   },
   "outputs": [
    {
     "name": "stdout",
     "output_type": "stream",
     "text": [
      "Регион 1 с вероятностью 95% заработает от -142800630 рублей до 893380566 рублей (ср: 381120360 рублей).\n",
      "Убыток будет в 7.4% случаев.\n"
     ]
    }
   ],
   "source": [
    "lower_2 = values_2.quantile(0.025)\n",
    "upper_2 = values_2.quantile(0.975)\n",
    "mean_2 = values_2.mean()\n",
    "prob_of_loss_2 = percentileofscore(values_2, 0)\n",
    "print(f\"Регион 1 с вероятностью 95% заработает от {lower_2:.0f} рублей до {upper_2:.0f} рублей (ср: {mean_2:.0f} рублей).\")\n",
    "print(f\"Убыток будет в {prob_of_loss_2:.1f}% случаев.\")"
   ]
  },
  {
   "cell_type": "markdown",
   "metadata": {},
   "source": [
    "Можно сделать вывод, что регион 2 будет лучшим выбором по двум причинам. Первая, и самая главная: риск убытков всего 0.6%, тогда как в остальных двух регионах он 4.8% и 7.4%. И средняя прибыль в регионе 2 больше, чем в остальных двух. Вывод: добычу лучше всего проводить в регионе 2."
   ]
  },
  {
   "cell_type": "markdown",
   "metadata": {},
   "source": [
    "## <a href='#content'>Возврат к содержанию</a>"
   ]
  }
 ],
 "metadata": {
  "kernelspec": {
   "display_name": "Python 3",
   "language": "python",
   "name": "python3"
  },
  "language_info": {
   "codemirror_mode": {
    "name": "ipython",
    "version": 3
   },
   "file_extension": ".py",
   "mimetype": "text/x-python",
   "name": "python",
   "nbconvert_exporter": "python",
   "pygments_lexer": "ipython3",
   "version": "3.8.5"
  },
  "toc": {
   "base_numbering": 1,
   "nav_menu": {},
   "number_sections": true,
   "sideBar": true,
   "skip_h1_title": false,
   "title_cell": "Table of Contents",
   "title_sidebar": "Contents",
   "toc_cell": false,
   "toc_position": {},
   "toc_section_display": true,
   "toc_window_display": false
  }
 },
 "nbformat": 4,
 "nbformat_minor": 2
}
